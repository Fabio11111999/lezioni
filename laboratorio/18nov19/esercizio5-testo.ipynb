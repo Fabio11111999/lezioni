{
 "cells": [
  {
   "cell_type": "markdown",
   "metadata": {},
   "source": [
    "# Esercizio 5\n",
    "\n",
    "Dato un file in formato GTF (Gene Transfer Format) che annota un set di geni sulla stessa genomica di riferimento, e il file della genomica di riferimento (*genomic reference*) in formato FASTA, produrre in output:\n",
    "\n",
    "- (a scelta) le sequenze dei trascritti full-length o le sequenze delle coding sequences (CDS) che si trovano annotati nel file GTF\n",
    "- il set dei geni (identificati tramite il loro HUGO name) relativi alle sequenze prodotte al punto precedente\n",
    "\n",
    "L'*header* del formato FASTA deve contenere per ogni sequenza prodotta in output (trascritto full-length o CDS):        \n",
    "- lo HUGO name del gene di riferimento\n",
    "- l’identificatore del trascritto di riferimento (sia per trascritto full-length che per CDS)\n",
    "- il tipo di sequenza (cioé se è trascritto full-length o CDS)\n",
    "- lo strand del gene rispetto alla *genomic reference*\n",
    "    \n",
    "e deve rispettare il formato dei seguenti esempi:\n",
    "         \n",
    "    >ARHGAP4; U52112.4-003; len=3235 type=transcript; strand=-\n",
    "    >AVPR2; U52112.2-003; type=cds; strand=+\n",
    "   \n",
    "***\n",
    "\n",
    "Parametri in input:\n",
    "\n",
    "- nome del file in formato GTF\n",
    "- nome del file della *genomic reference* in formato FASTA\n",
    "- nome della *feature* GTF che compone la sequenza da ricostruire: `exon` per i trascritti full-length e `CDS` per le coding sequences\n",
    "\n",
    "***\n",
    "\n",
    "Requisiti:\n",
    "\n",
    "- deve essere definita una funzione `format_fasta()` che prenda come argomenti un'intestazione FASTA e una sequenza, e restituisca la sequenza in formato FASTA separata in righe di 80 caratteri.\n",
    "\n",
    "- deve essere definita una funzione `reverse_complement()` che prenda come argomento una sequenza nucleotidica e ne restituisca il reverse&complement.\n",
    "\n",
    "- deve essere definita una funzione `compose_feature()` che prenda come argomenti una lista di *features* dello stesso tipo (in cui ogni *feature* è una tupla *(start, end)*), la genomica di riferimento, lo strand delle *features* rispetto alla genomica di riferimento (cioé lo strand del gene a cui le *features* appartengono), ed effettui la concatenazione delle sequenze delle *features*, effettuando il reverse&complement se lo strand del gene è `-` (strand minus).\n",
    "\n",
    "**NOTA BENE**: gli attributi (coppie *nome-valore*) del nono campo del file GTF non devono essere pensati a ordine fisso all'interno del campo. Per estrarre quindi un attributo, non si può usare il metodo `split()`, ma si deve necessariamente usare un'espressione regolare.\n",
    "\n",
    "***\n",
    "\n",
    "Variabili di output:\n",
    "- `sequence_fasta_list`: lista delle sequenze ricostruite (trascritti full-length o coding sequences) in formato FASTA\n",
    "- `gene_set`: set dei geni coinvolti nelle sequenze ricostruite"
   ]
  },
  {
   "cell_type": "markdown",
   "metadata": {},
   "source": [
    "***"
   ]
  },
  {
   "cell_type": "markdown",
   "metadata": {},
   "source": [
    "### Interrogazione di un dizionario e recupero del valore di *default* nel caso di chiave inesistente\n",
    "\n",
    "Il metodo `get` degli oggetti di tipo `dict` permette, oltre a specificare una chiave come primo argomento, anche un valore di *default* come secondo argomento. Se la chiave non esiste, viene restituito il valore di *default*.\n",
    "\n",
    "Quindi la seguente invocazione:\n",
    "\n",
    "    my_dict.get(my_key, default_value)\n",
    "\n",
    "restituisce il valore relativo alla chiave `my_key` se la chiave è presente nel dizionario, oppure il valore `default_value` se la chiave non esiste."
   ]
  },
  {
   "cell_type": "code",
   "execution_count": 1,
   "metadata": {},
   "outputs": [
    {
     "data": {
      "text/plain": [
       "10"
      ]
     },
     "execution_count": 1,
     "metadata": {},
     "output_type": "execute_result"
    }
   ],
   "source": [
    "my_dict = dict()\n",
    "my_dict.get('chiave non esistente', 10)"
   ]
  }
 ],
 "metadata": {
  "kernelspec": {
   "display_name": "Python 3",
   "language": "python",
   "name": "python3"
  },
  "language_info": {
   "codemirror_mode": {
    "name": "ipython",
    "version": 3
   },
   "file_extension": ".py",
   "mimetype": "text/x-python",
   "name": "python",
   "nbconvert_exporter": "python",
   "pygments_lexer": "ipython3",
   "version": "3.7.1"
  }
 },
 "nbformat": 4,
 "nbformat_minor": 2
}
