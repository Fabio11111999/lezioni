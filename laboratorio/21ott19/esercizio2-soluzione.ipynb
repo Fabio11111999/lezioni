{
 "cells": [
  {
   "cell_type": "markdown",
   "metadata": {},
   "source": [
    "# Esercizio 2\n",
    "\n",
    "Accedere a https://www.kaggle.com/rounakbanik/the-movies-dataset#movies_metadata.csv e scaricare il dataset in formato csv `movies_metadata.csv.zip`. Tale dataset contiene, in *record* di 24 campi, i film realizzati fino al 2017.\n",
    "\n",
    "Considerando solo i primi 1000 record, si richiede di:\n",
    "- elencare i 10 paesi che hanno prodotto più film, ciascuno con il numero di film prodotti (ordinati per numero di film prodotti decrescente)\n",
    "- per ognuno dei generi cinematografici presenti:\n",
    "    - la classifica degli n film più popolari ordinati per popolarità decrescente, specificando il titolo originale e la tagline per ciascuno di essi\n",
    "    - l'elenco delle lingue originali che sono coinvolte in ciascuna delle classifiche del punto precedente\n",
    "\n",
    "Parametri di input:\n",
    "\n",
    "- nome del dataset in input\n",
    "- parametro n\n",
    "\n",
    "***\n",
    "\n",
    "I campi del file csv che occorrono per risolvere l'esercizio sono:\n",
    "\n",
    "- `genres` (stringa)\n",
    "\n",
    "        [{'id': 16, 'name': 'Animation'}, {'id': 35, 'name': 'Comedy'}, {'id': 10751, 'name': 'Family'}]\n",
    "\n",
    "- `original_title` (stringa)\n",
    "- `popularity` (decimale)\n",
    "- `id` (ID)\n",
    "- `tagline` (stringa)\n",
    "- `original_language` (stringa)\n",
    "- `production_countries` (stringa)\n",
    "\n",
    "        [{'iso_3166_1': 'DE', 'name': 'Germany'}, {'iso_3166_1': 'US', 'name': 'United States of America'}]\n",
    "\n",
    "***\n",
    "\n",
    "Requisiti generali:\n",
    "\n",
    "- le stringhe relative ai campi `genres` e `production_countries` *letteralmente* specificano una lista di dizionari in cui è presente la chiave `name` a cui viene associato il valore di un genere cinematografico nel caso di `genres` e un paese nel caso di `production_countries`. Si richiede quindi la definizione di una funzione `get_items()` che prenda in input uno qualsiasi tra questi due campi ed estragga la lista dei generi (ad esempio `['Animation', 'Comedy', 'Family']`) nel caso di `genres` e la lista dei paesi di produzione (ad esempio `['Germany', 'United States of America']`) nel caso di `production_countries`.\n",
    "- si richiede produrre le seguenti variabili:\n",
    "    - `country_rank_list`: lista di 10 tuple *(paese, numero di film prodotti)* contenente i primi 10 paesi che hanno prodotto più film (ordinati per numero di film prodotti decrescente)\n",
    "- `pop_rank_dict`: dizionario delle classifiche per genere dei primi n film ordinati per popolarità decrescente\n",
    "    - *chiave*: genere di un film\n",
    "    - *valore*: lista di n liste *[titolo originale, tagline]* contenente i primi n film ordinati per popolarità decrescente\n",
    "- `language_set_dict`: dizionario degli insiemi delle lingue coinvolte in ciascuna delle classifiche presenti in `pop_rank_dict`\n",
    "    - *chiave*: genere di un film\n",
    "    - *valore*: insieme delle lingue coinvolte\n",
    "\n",
    "\n",
    "**NOTA BENE**: alcuni record del dataset csv hanno un valore del campo `popularity` che non è un decimale oppure non hanno proprio un valore. Non conviene perciò considerarle.\n",
    "\n",
    "***"
   ]
  },
  {
   "cell_type": "markdown",
   "metadata": {},
   "source": [
    "## Soluzione"
   ]
  },
  {
   "cell_type": "markdown",
   "metadata": {},
   "source": [
    "### Parametri in input"
   ]
  },
  {
   "cell_type": "code",
   "execution_count": 2,
   "metadata": {},
   "outputs": [],
   "source": [
    "input_file_name = './movies_metadata.csv.zip'\n",
    "n = 15"
   ]
  },
  {
   "cell_type": "markdown",
   "metadata": {},
   "source": [
    "Importazione dei moduli `pandas`, `ast` e `numpy`."
   ]
  },
  {
   "cell_type": "code",
   "execution_count": 3,
   "metadata": {},
   "outputs": [],
   "source": [
    "import pandas as pd\n",
    "import ast\n",
    "import numpy as np"
   ]
  },
  {
   "cell_type": "markdown",
   "metadata": {},
   "source": [
    "### Definizione della funzione `get_items()`\n",
    "\n",
    "La funzione `get_items()` estrae la lista dei generi/paesi dai campi `genres`/`production_countries` del dataset csv"
   ]
  },
  {
   "cell_type": "code",
   "execution_count": 4,
   "metadata": {},
   "outputs": [],
   "source": [
    "def get_items(arg_string):\n",
    "    return [dictionary['name'] for dictionary in ast.literal_eval(arg_string)]"
   ]
  },
  {
   "cell_type": "markdown",
   "metadata": {},
   "source": [
    "### Lettura del dataset csv in un *data frame* `movies_df`"
   ]
  },
  {
   "cell_type": "markdown",
   "metadata": {},
   "source": [
    "Leggere il dataset csv ed estrarre solo le prime 1000 righe."
   ]
  },
  {
   "cell_type": "code",
   "execution_count": 7,
   "metadata": {},
   "outputs": [],
   "source": [
    "movies_df = pd.read_csv(input_file_name)[:1000]"
   ]
  },
  {
   "cell_type": "code",
   "execution_count": 41,
   "metadata": {},
   "outputs": [],
   "source": [
    "#movies_df.head()"
   ]
  },
  {
   "cell_type": "markdown",
   "metadata": {},
   "source": [
    "### Costruzione delle strutture dati di base\n",
    "\n",
    "Costruire le seguenti strutture di base:\n",
    "- `info_dict`: dizionario delle informazioni sui film\n",
    "    - *chiave*: ID dei film (campo `id` del dataset csv)\n",
    "    - *valore*: tupla *(titolo originale, tagline, lingua originale)*\n",
    "- `country_list`: lista dei paesi che hanno prodotto un film (ciascun paese deve essere presente nella lista esattamente per il numero di volte in cui ha prodotto un film)\n",
    "- `pop_dict`: dizionario delle popolarità\n",
    "    - *chiave*: genere cinematografico\n",
    "    - *valore*: lista dei film associati al genere (ognuno dei film è presente come lista annidata *[popolarità, ID]*\n",
    "\n",
    "Inizializzare le strutture di base vuote."
   ]
  },
  {
   "cell_type": "code",
   "execution_count": 9,
   "metadata": {},
   "outputs": [],
   "source": [
    "info_dict = {}\n",
    "country_list = []\n",
    "pop_dict = {}"
   ]
  },
  {
   "cell_type": "markdown",
   "metadata": {},
   "source": [
    "Attraversare i *record* di `movies_df` per riempire `info_dict` e `country_list`, e costruire `pop_dict` con valori tutti uguali a liste vuote `[]`.\n",
    "\n",
    "**NOTA BENE**: effettuare il controllo sul valore del campo `popularity` che deve essere un numero (altrimenti non considerare il record)."
   ]
  },
  {
   "cell_type": "code",
   "execution_count": 21,
   "metadata": {},
   "outputs": [],
   "source": [
    "for (index, row) in movies_df.iterrows():\n",
    "    if(isinstance(row['popularity'], float) and np.isnan(row['popularity']) == False):        \n",
    "        info_dict[row['id']] = (row['original_title'], row['tagline'], row['original_language'])\n",
    "        country_list.extend(get_items(row['production_countries']))\n",
    "        [pop_dict.update([(gen, [])]) for gen in get_items(row['genres'])]"
   ]
  },
  {
   "cell_type": "code",
   "execution_count": 42,
   "metadata": {},
   "outputs": [],
   "source": [
    "#info_dict"
   ]
  },
  {
   "cell_type": "code",
   "execution_count": 43,
   "metadata": {},
   "outputs": [],
   "source": [
    "#country_list"
   ]
  },
  {
   "cell_type": "code",
   "execution_count": 44,
   "metadata": {},
   "outputs": [],
   "source": [
    "#pop_dict"
   ]
  },
  {
   "cell_type": "markdown",
   "metadata": {},
   "source": [
    "Attraversare di nuovo i *record* di `movies_df` per riempire i valori di `pop_dict`."
   ]
  },
  {
   "cell_type": "code",
   "execution_count": 25,
   "metadata": {},
   "outputs": [],
   "source": [
    "for (index, row) in movies_df.iterrows():\n",
    "    if(isinstance(row['popularity'], float) and np.isnan(row['popularity']) == False):        \n",
    "        [pop_dict[gen].append([row['popularity'], row['id']]) for gen in get_items(row['genres'])]"
   ]
  },
  {
   "cell_type": "code",
   "execution_count": 45,
   "metadata": {},
   "outputs": [],
   "source": [
    "#pop_dict"
   ]
  },
  {
   "cell_type": "markdown",
   "metadata": {},
   "source": [
    "### Estrazione dei 10 paesi che hanno prodotto più film\n",
    "\n",
    "Costruire la lista `country_rank_list` dei primi 10 paesi che hanno prodotto più film, ordinati per numero di film decrescente; ogni paese deve essere presente come tupla *(paese, numero di film prodotti)*."
   ]
  },
  {
   "cell_type": "code",
   "execution_count": 27,
   "metadata": {},
   "outputs": [],
   "source": [
    "from collections import Counter\n",
    "\n",
    "country_rank_counter = Counter(country_list)\n",
    "country_rank_list = country_rank_counter.most_common()[:10]"
   ]
  },
  {
   "cell_type": "code",
   "execution_count": 46,
   "metadata": {},
   "outputs": [],
   "source": [
    "#country_rank_list"
   ]
  },
  {
   "cell_type": "markdown",
   "metadata": {},
   "source": [
    "### Estrazione, per ogni genere cinematografico, degli n film più popolari ordinati per popolarità descrescente, ed estrazione delle lingue coinvolte in ciascuna classifica di popolarità"
   ]
  },
  {
   "cell_type": "markdown",
   "metadata": {},
   "source": [
    "Ottenere da `pop_dict` il dizionario `pop_rank_dict_temp` con la stessa struttura, ma con la differenza che il *valore* relativo a un dato genere è la lista degli n film più popolari (ordinati per popolarità decrescente).\n",
    "\n",
    "**NOTA BENE**: ottenere prima `key_value_tuples`, lista di tuple *(chiave, valore)* di `pop_rank_dict_temp`, e in seguito costruire il dizionario con la funzione `dict()`."
   ]
  },
  {
   "cell_type": "code",
   "execution_count": 39,
   "metadata": {},
   "outputs": [],
   "source": [
    "key_value_tuples = [(gen, sorted(pop_dict[gen])[::-1][:n]) for gen in pop_dict]\n",
    "pop_rank_dict_temp = dict(key_value_tuples)"
   ]
  },
  {
   "cell_type": "code",
   "execution_count": 47,
   "metadata": {},
   "outputs": [],
   "source": [
    "#pop_rank_dict_temp"
   ]
  },
  {
   "cell_type": "markdown",
   "metadata": {},
   "source": [
    "Ottenere da `pop_rank_dict_temp` il dizionario `pop_rank_dict`\n",
    "- *chiave*: genere cinematografico\n",
    "- *valore*: lista degli n film più popolari, dove ogni film è presente come lista annidata *[titolo originale, tagline]*\n",
    "\n",
    "**NOTA BENE**: ottenere prima `key_value_tuples`, lista di tuple *(chiave, valore)* di `pop_rank_dict`, e in seguito costruire il dizionario con la funzione `dict()`."
   ]
  },
  {
   "cell_type": "code",
   "execution_count": 35,
   "metadata": {
    "scrolled": true
   },
   "outputs": [],
   "source": [
    "key_value_tuples = [(gen, [[info_dict[films[1]][0], info_dict[films[1]][1]] for films in pop_rank_dict_temp[gen]]) for gen in pop_rank_dict_temp]\n",
    "pop_rank_dict = dict(key_value_tuples)"
   ]
  },
  {
   "cell_type": "code",
   "execution_count": 48,
   "metadata": {},
   "outputs": [],
   "source": [
    "#pop_rank_dict"
   ]
  },
  {
   "cell_type": "markdown",
   "metadata": {},
   "source": [
    "Ottenere da `pop_rank_dict_temp` il dizionario `language_set_dict` degli insiemi delle lingue coinvolte in ciascuna delle classifiche per genere degli n film ordinati per popolarità descrescente\n",
    "- *chiave*: genere cinematografico\n",
    "- *valore*: insieme delle lingue originali coinvolte (oggetto di tipo `set`)\n",
    "\n",
    "**NOTA BENE**: ottenere prima `key_value_tuples`, lista di tuple *(chiave, valore)* di `language_set_dict`, e in seguito costruire il dizionario con la funzione `dict()`."
   ]
  },
  {
   "cell_type": "code",
   "execution_count": 37,
   "metadata": {},
   "outputs": [],
   "source": [
    "key_value_tuples = [(gen, set([info_dict[films[1]][2] for films in pop_rank_dict_temp[gen]])) for gen in pop_rank_dict_temp]\n",
    "language_set_dict = dict(key_value_tuples)"
   ]
  },
  {
   "cell_type": "code",
   "execution_count": 49,
   "metadata": {},
   "outputs": [],
   "source": [
    "#language_set_dict"
   ]
  },
  {
   "cell_type": "code",
   "execution_count": null,
   "metadata": {},
   "outputs": [],
   "source": []
  }
 ],
 "metadata": {
  "kernelspec": {
   "display_name": "Python 3",
   "language": "python",
   "name": "python3"
  },
  "language_info": {
   "codemirror_mode": {
    "name": "ipython",
    "version": 3
   },
   "file_extension": ".py",
   "mimetype": "text/x-python",
   "name": "python",
   "nbconvert_exporter": "python",
   "pygments_lexer": "ipython3",
   "version": "3.7.1"
  }
 },
 "nbformat": 4,
 "nbformat_minor": 2
}
