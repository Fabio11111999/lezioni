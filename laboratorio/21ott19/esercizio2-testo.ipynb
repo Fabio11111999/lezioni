{
 "cells": [
  {
   "cell_type": "markdown",
   "metadata": {},
   "source": [
    "# Esercizio 2\n",
    "\n",
    "Accedere a https://www.kaggle.com/rounakbanik/the-movies-dataset#movies_metadata.csv e scaricare il dataset in formato csv `movies_metadata.csv.zip`. Tale dataset contiene, in *record* di 24 campi, i film realizzati fino al 2017.\n",
    "\n",
    "Considerando solo i primi 1000 record, si richiede di:\n",
    "- elencare i 10 paesi che hanno prodotto più film, ciascuno con il numero di film prodotti (ordinati per numero di film prodotti decrescente)\n",
    "- per ognuno dei generi cinematografici presenti:\n",
    "    - la classifica degli n film più popolari ordinati per popolarità decrescente, specificando il titolo originale e la tagline per ciascuno di essi\n",
    "    - l'elenco delle lingue originali che sono coinvolte in ciascuna delle classifiche del punto precedente\n",
    "\n",
    "Parametri di input:\n",
    "\n",
    "- nome del dataset in input\n",
    "- parametro n\n",
    "\n",
    "***\n",
    "\n",
    "I campi del file csv che occorrono per risolvere l'esercizio sono:\n",
    "\n",
    "- `genres` (stringa)\n",
    "\n",
    "        [{'id': 16, 'name': 'Animation'}, {'id': 35, 'name': 'Comedy'}, {'id': 10751, 'name': 'Family'}]\n",
    "\n",
    "- `original_title` (stringa)\n",
    "- `popularity` (decimale)\n",
    "- `id` (ID)\n",
    "- `tagline` (stringa)\n",
    "- `original_language` (stringa)\n",
    "- `production_countries` (stringa)\n",
    "\n",
    "        [{'iso_3166_1': 'DE', 'name': 'Germany'}, {'iso_3166_1': 'US', 'name': 'United States of America'}]\n",
    "\n",
    "***\n",
    "\n",
    "Requisiti generali:\n",
    "\n",
    "- le stringhe relative ai campi `genres` e `production_countries` *letteralmente* specificano una lista di dizionari in cui è presente la chiave `name` a cui viene associato il valore di un genere cinematografico nel caso di `genres` e un paese nel caso di `production_countries`. Si richiede quindi la definizione di una funzione `get_items()` che prenda in input uno qualsiasi tra questi due campi ed estragga la lista dei generi (ad esempio `['Animation', 'Comedy', 'Family']`) nel caso di `genres` e la lista dei paesi di produzione (ad esempio `['Germany', 'United States of America']`) nel caso di `production_countries`.\n",
    "- si richiede produrre le seguenti variabili:\n",
    "    - `country_rank_list`: lista di 10 tuple *(paese, numero di film prodotti)* contenente i primi 10 paesi che hanno prodotto più film (ordinati per numero di film prodotti decrescente)\n",
    "- `pop_rank_dict`: dizionario delle classifiche per genere dei primi n film ordinati per popolarità decrescente\n",
    "    - *chiave*: genere di un film\n",
    "    - *valore*: lista di n liste *[titolo originale, tagline]* contenente i primi n film ordinati per popolarità decrescente\n",
    "- `language_set_dict`: dizionario degli insiemi delle lingue coinvolte in ciascuna delle classifiche presenti in `pop_rank_dict`\n",
    "    - *chiave*: genere di un film\n",
    "    - *valore*: insieme delle lingue coinvolte\n",
    "\n",
    "\n",
    "**NOTA BENE**: alcuni record del dataset csv hanno un valore del campo `popularity` che non è un decimale oppure non hanno proprio un valore. Non conviene perciò considerarle.\n",
    "\n",
    "***"
   ]
  },
  {
   "cell_type": "markdown",
   "metadata": {},
   "source": [
    "### Come leggere un file csv con Pandas\n",
    "\n",
    "Il modulo `pandas` permette di leggere un file in formato csv (anche zippato) tramite la funzione `read_csv` che prende come argomento il nome del file da leggere.\n",
    "\n",
    "L'oggetto restituito è un oggetto di tipo `DataFrame` (un *data frame*), cioé una struttura bidimensionale (tabella) organizzata in righe (*record*) e colonne intestate.\n",
    "\n",
    "Il codice seguente\n",
    "\n",
    "    import pandas as pd\n",
    "    df = pd.read_csv(input_file_name)\n",
    "        \n",
    "legge il file `input_file_name` e lo restituisce in un oggetto di tipo `DataFrame`.\n",
    "\n",
    "Per vedere solo le prime righe del *data frame* basta invocare il metodo `head()`:\n",
    "\n",
    "     df.head()\n",
    "     \n",
    "Per tenere solo le prime `n` righe del *data frame*:\n",
    "\n",
    "    df = df[:n]\n",
    "\n",
    "Per iterare lungo le righe del *data frame* basta invocare il metodo `iterrows()` che restituisce un iteratore da usare in un ciclo di scansione. Ogni elemento dell'iteratore è una tupla di due elementi:\n",
    "- `index`: indice della riga (valore intero)\n",
    "- `row`: oggetto di tipo `Series` che contiene i campi del *record*\n",
    "\n",
    "    for (index, row) in df.iterrows():\n",
    "        do_something_with_row\n",
    "        \n",
    "        \n",
    "L'accesso al campo relativo alla colonna con nome `column_name` della *record* `row` avviene usando la seguente sintassi:\n",
    "\n",
    "    row[column_name]\n",
    "    \n",
    "**NOTA BENE**: il valore restituito da `row[column_name]` rispetta il tipo della colonna `column_name` nel file csv in input. Ad esempio se il campo nel dataset csv è un valore intero allora il valore di `row[column_name]` sarà di tipo `int`."
   ]
  },
  {
   "cell_type": "markdown",
   "metadata": {},
   "source": [
    "### Come interpretare *letteralmente* una stringa "
   ]
  },
  {
   "cell_type": "markdown",
   "metadata": {},
   "source": [
    "La funzione `ast_literal()` del modulo `ast`  prende come argomento una stringa e restituice l'oggetto rappresentato *letteralmente* dalla stringa."
   ]
  },
  {
   "cell_type": "code",
   "execution_count": 10,
   "metadata": {},
   "outputs": [
    {
     "data": {
      "text/plain": [
       "[1, 2, 3]"
      ]
     },
     "execution_count": 10,
     "metadata": {},
     "output_type": "execute_result"
    }
   ],
   "source": [
    "import ast\n",
    "\n",
    "ast.literal_eval(\"[1,2,3]\")"
   ]
  },
  {
   "cell_type": "markdown",
   "metadata": {},
   "source": [
    "### Come testare il tipo di un oggetto"
   ]
  },
  {
   "cell_type": "markdown",
   "metadata": {},
   "source": [
    "La funzione `isinstance()` restituisce il valore `True` se l'oggetto passato come primo argomento è del tipo specificato come secondo argomento."
   ]
  },
  {
   "cell_type": "code",
   "execution_count": 13,
   "metadata": {},
   "outputs": [
    {
     "data": {
      "text/plain": [
       "True"
      ]
     },
     "execution_count": 13,
     "metadata": {},
     "output_type": "execute_result"
    }
   ],
   "source": [
    "isinstance(10, int)"
   ]
  },
  {
   "cell_type": "markdown",
   "metadata": {},
   "source": [
    "### Come testare se un valore è NaN (Not a Number)"
   ]
  },
  {
   "cell_type": "markdown",
   "metadata": {},
   "source": [
    "La funzione `isnan()` del modulo `numpy` restituisce il valore `True` se il valore passato come argomento è NaN."
   ]
  },
  {
   "cell_type": "code",
   "execution_count": 11,
   "metadata": {},
   "outputs": [
    {
     "data": {
      "text/plain": [
       "False"
      ]
     },
     "execution_count": 11,
     "metadata": {},
     "output_type": "execute_result"
    }
   ],
   "source": [
    "import numpy\n",
    "\n",
    "numpy.isnan(10)"
   ]
  },
  {
   "cell_type": "markdown",
   "metadata": {},
   "source": [
    "### Funzioni/Metodi suggeriti"
   ]
  },
  {
   "cell_type": "markdown",
   "metadata": {},
   "source": [
    "- la funzione `sorted()` prende come argomento un oggetto iterabile e restituisce la lista dei valori ordinati in senso crescente. Ad esempio la seguente istruzione ordina una lista di tuple"
   ]
  },
  {
   "cell_type": "code",
   "execution_count": 16,
   "metadata": {},
   "outputs": [
    {
     "data": {
      "text/plain": [
       "[(2.34, 10), (10.2, 1), (11.02, 2), (11.02, 3)]"
      ]
     },
     "execution_count": 16,
     "metadata": {},
     "output_type": "execute_result"
    }
   ],
   "source": [
    "sorted([(11.02, 3), (10.2, 1), (11.02, 2), (2.34, 10)])"
   ]
  },
  {
   "cell_type": "markdown",
   "metadata": {},
   "source": [
    "- Il metodo `append()` degli oggetti di tipo `list` aggiunge in coda alla lista invocante il valore passato come argomento"
   ]
  },
  {
   "cell_type": "code",
   "execution_count": 17,
   "metadata": {},
   "outputs": [],
   "source": [
    "lista = [1,2,3,4]\n",
    "lista.append([5, 6])"
   ]
  },
  {
   "cell_type": "code",
   "execution_count": 18,
   "metadata": {},
   "outputs": [
    {
     "data": {
      "text/plain": [
       "[1, 2, 3, 4, [5, 6]]"
      ]
     },
     "execution_count": 18,
     "metadata": {},
     "output_type": "execute_result"
    }
   ],
   "source": [
    "lista"
   ]
  },
  {
   "cell_type": "markdown",
   "metadata": {},
   "source": [
    "- Il metodo `extend()` degli oggetti di tipo `list` estende in coda la lista invocante con i valori contenuti nell'argomento passato"
   ]
  },
  {
   "cell_type": "code",
   "execution_count": 27,
   "metadata": {},
   "outputs": [],
   "source": [
    "lista = [1,2,3,4]\n",
    "lista.extend([5, 6])"
   ]
  },
  {
   "cell_type": "code",
   "execution_count": 28,
   "metadata": {},
   "outputs": [
    {
     "data": {
      "text/plain": [
       "[1, 2, 3, 4, 5, 6]"
      ]
     },
     "execution_count": 28,
     "metadata": {},
     "output_type": "execute_result"
    }
   ],
   "source": [
    "lista"
   ]
  }
 ],
 "metadata": {
  "kernelspec": {
   "display_name": "Python 3",
   "language": "python",
   "name": "python3"
  },
  "language_info": {
   "codemirror_mode": {
    "name": "ipython",
    "version": 3
   },
   "file_extension": ".py",
   "mimetype": "text/x-python",
   "name": "python",
   "nbconvert_exporter": "python",
   "pygments_lexer": "ipython3",
   "version": "3.7.1"
  }
 },
 "nbformat": 4,
 "nbformat_minor": 2
}
