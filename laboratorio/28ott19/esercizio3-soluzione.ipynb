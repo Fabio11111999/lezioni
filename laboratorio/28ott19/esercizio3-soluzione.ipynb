{
 "cells": [
  {
   "cell_type": "markdown",
   "metadata": {},
   "source": [
    "# Esercizio 3\n",
    "\n",
    "EMBL (http://www.ebi.ac.uk/cgi-bin/sva/sva.pl/) è una banca di sequenze nucleotidiche sviluppata da EMBL-EBI (European Bioinformatics Institute, European Molecular Biology Laboratory), in cui ogni sequenza nucleotidica viene memorizzata, con altre informazioni, in file di testo (*entry* EMBL) in un formato che prende il nome di formato EMBL.\n",
    "\n",
    "**Il formato EMBL** è composto da *record* che iniziano con un codice a due lettere maisucole che specifica il contenuto del *record*. I soli *record* che non iniziano con il codice a due lettere sono quelli contenenti la sequenza nucleotidica.\n",
    "\n",
    "Dato un file in formato EMBL, contenente la sequenza nucleotidica (sequenza di basi) di un mRNA (trascritto espresso da un gene), produrre:\n",
    "\n",
    "- la sequenza nucleotidica in formato FASTA\n",
    "- la sequenza della proteina espressa dal gene in formato FASTA\n",
    "\n",
    "***\n",
    "\n",
    "Parametri in input:\n",
    "\n",
    "- nome del file in formato EMBL\n",
    "\n",
    "***\n",
    "\n",
    "Dove trovare le informazioni che servono per risolvere l'esercizio:\n",
    "\n",
    "- Il record che inizia con ID\n",
    " \n",
    "       ID   M10051; SV 1; linear; mRNA; STD; HUM; 4723 BP.\n",
    "\n",
    "contiene l'identificatore univoco della sequenza (M10051) e l'organismo (HUM). Il fatto che il file si riferisca alla sequenza nucleotidica di un gene è indicato dalla presenza della parola `mRNA`.\n",
    "\n",
    "- L'insieme dei record che iniziano con FT sono quelli che contengono le *features* della sequenza nucleotidica. In particolare tutti i record della sezione:\n",
    "\n",
    "       FT                   /translation=\"MGTGGRRGAAAAPLLVAVAALLLGAAGHLYPGEVCPGMDIRNNLT\n",
    "       FT                   RLHELENCSVIEGHLQILLMFKTRPEDFRDLSFPKLIMITDYLLLFRVYGLESLKDLFP\n",
    "       FT                   NLTVIRGSRLFFNYALVIFEMVHLKELGLYNLMNITRGSVRIEKNNELCYLATIDWSRI\n",
    "       FT                   LDSVEDNHIVLNKDDNEECGDICPGTAKGKTNCPATVINGQFVERCWTHSHCQKVCPTI\n",
    "       FT                   [...]\n",
    "       FT                   DGGSSLGFKRSYEEHIPYTHMNGGKKNGRILTLPRSNPS\"\n",
    "        \n",
    "contengono la sequenza della proteina espressa dal gene.\n",
    "\n",
    "- Il record che inizia con SQ:\n",
    "\n",
    "        SQ   Sequence 4723 BP; 1068 A; 1298 C; 1311 G; 1046 T; 0 other;\n",
    "        \n",
    "introduce la sezione della sequenza nucleotidica che termina con il record `//` (file del file). Ogni *record* contenente la sequenza nucleotidica inizia con una serie di spazi iniziali, e contiene un *chunk* di sequenza lungo 60 basi. L'intero alla fine del *record* fornisce la lunghezza totale dei *chunks* fino a tale *record*. Ogni *chunk* in un *record* viene poi separato in *chunks* più piccoli di 10 basi.\n",
    "\n",
    "    SQ   Sequence 4723 BP; 1068 A; 1298 C; 1311 G; 1046 T; 0 other;\n",
    "         ggggggctgc gcggccgggt cggtgcgcac acgagaagga cgcgcggccc ccagcgctct        60\n",
    "         tgggggccgc ctcggagcat gacccccgcg ggccagcgcc gcgcgcctga tccgaggaga       120\n",
    "         ccccgcgctc ccgcagccat gggcaccggg ggccggcggg gggcggcggc cgcgccgctg       180\n",
    "         ctggtggcgg tggccgcgct gctactgggc gccgcgggcc acctgtaccc cggagaggtg       240\n",
    "         tgtcccggca tggatatccg gaacaacctc actaggttgc atgagctgga gaattgctct       300\n",
    "         gtcatcgaag gacacttgca gatactcttg atgttcaaaa cgaggcccga agatttccga       360\n",
    "         gacctcagtt tccccaaact catcatgatc actgattact tgctgctctt ccgggtctat       420\n",
    "         gggctcgaga gcctgaagga cctgttcccc aacctcacgg tcatccgggg atcacgactg       480\n",
    "         [...]\n",
    "         tttttcgttc cccccacccg cccccagcag atggaaagaa agcacctgtt tttacaaatt      4620\n",
    "         cttttttttt tttttttttt tttttttttg ctggtgtctg agcttcagta taaaagacaa      4680\n",
    "         aacttcctgt ttgtggaaca aaatttcgaa agaaaaaacc aaa                        4723\n",
    "    //\n",
    "    \n",
    "**NOTA BENE**:\n",
    "- l'alfabeto degli amminoacidi è {ACDEFGHIKLMNPQRSTVWY}\n",
    "- la sequenza nucleotidica riportata nell'*entry EMBL* è su alfabeto {a,c,g,t} nonostante rappresenti la sequenza primaria di un mRNA. Per ottenere la sequenza su alfabeto {a,c,g,u} basta operare una sostituzione di tutti i simboli `t` con simboli `u`.\n",
    "\n",
    "***\n",
    "\n",
    "Requisiti:\n",
    "\n",
    "- nell’*header* della sequenza nucleotidica in formato FASTA devono comparire l’identificatore univoco della sequenza e l’organismo a cui si riferisce, nel seguente formato:\n",
    "\n",
    "        >M10051-HUM\n",
    "        \n",
    "- la sequenza nucleotidica deve essere prodotta su alfabeto {a,c,g,u}\n",
    "        \n",
    "- nell’*header* della sequenza della proteina in formato FASTA devono comparire l’identificatore univoco della sequenza, l’organismo e la lunghezza della proteina, nel seguente formato:\n",
    "\n",
    "        >M10051-HUM; len = 1427\n",
    "        \n",
    "- le sequenze in formato FASTA devono essere prodotte in righe di 80 caratteri\n",
    "\n",
    "- deve essere definita una funzione `format_fasta()` che prenda come argomenti un'intestazione FASTA, una sequenza nucleotidica/proteica, e restituisca la sequenza in formato FASTA con la sequenza separata in righe di 80 caratteri.\n",
    "\n",
    "- usare solo espressioni regolari per estrarre le informazioni\n",
    "\n",
    "***\n",
    "\n",
    "Variabili di output:\n",
    "- `nucleotide_sequence_fasta`: sequenza nucleotidica in formato FASTA\n",
    "- `protein_sequence_fasta`: sequenza della proteina in formato FASTA"
   ]
  },
  {
   "cell_type": "markdown",
   "metadata": {},
   "source": [
    "***"
   ]
  },
  {
   "cell_type": "markdown",
   "metadata": {},
   "source": [
    "## Soluzione"
   ]
  },
  {
   "cell_type": "markdown",
   "metadata": {},
   "source": [
    "### Definizione della funzione `format_fasta()`"
   ]
  },
  {
   "cell_type": "code",
   "execution_count": 1,
   "metadata": {},
   "outputs": [],
   "source": [
    "def format_fasta(header, sequence):\n",
    "    return header + '\\n' + '\\n'.join(re.findall('\\w{1,80}', sequence))"
   ]
  },
  {
   "cell_type": "markdown",
   "metadata": {},
   "source": [
    "**NOTA BENE**: supporre che l'*header* in input alla funzione non abbia il simbolo *newline* `\\n` alla fine ma che abbia il simbolo `>` all'inizio."
   ]
  },
  {
   "cell_type": "markdown",
   "metadata": {},
   "source": [
    "### Parametri in input"
   ]
  },
  {
   "cell_type": "code",
   "execution_count": 2,
   "metadata": {},
   "outputs": [],
   "source": [
    "input_file_name = './M10051.txt'"
   ]
  },
  {
   "cell_type": "markdown",
   "metadata": {},
   "source": [
    "Importazione del modulo `re` per utilizzare le espressioni regolari (*RE*)."
   ]
  },
  {
   "cell_type": "code",
   "execution_count": 3,
   "metadata": {},
   "outputs": [],
   "source": [
    "import re"
   ]
  },
  {
   "cell_type": "markdown",
   "metadata": {},
   "source": [
    "### Lettura del file (*entry* EMBL) in un'unica stringa `file_str`"
   ]
  },
  {
   "cell_type": "code",
   "execution_count": 4,
   "metadata": {},
   "outputs": [],
   "source": [
    "with open(input_file_name,'r') as input_file:\n",
    "    file_str = input_file.read()"
   ]
  },
  {
   "cell_type": "code",
   "execution_count": 5,
   "metadata": {},
   "outputs": [],
   "source": [
    "file_str"
   ]
  },
  {
   "cell_type": "markdown",
   "metadata": {},
   "source": [
    "### Estrazione dell'identificatore univoco e dell'organismo dell'*entry* EMBL"
   ]
  },
  {
   "cell_type": "markdown",
   "metadata": {},
   "source": [
    "Estrarre dal *record* ID l'identificatore univoco e l'organismo nelle variabili `identifier` e `organism`.\n",
    "\n",
    "    ID   M10051; SV 1; linear; mRNA; STD; HUM; 4723 BP.\n",
    "    \n",
    "Estrazione dell'organismo."
   ]
  },
  {
   "cell_type": "code",
   "execution_count": 6,
   "metadata": {},
   "outputs": [],
   "source": [
    "s = re.search('([\\w\\s]+;){5}\\s+(\\w+);', file_str, re.M)\n",
    "organism = s.group(2)"
   ]
  },
  {
   "cell_type": "code",
   "execution_count": 7,
   "metadata": {},
   "outputs": [
    {
     "data": {
      "text/plain": [
       "'HUM'"
      ]
     },
     "execution_count": 7,
     "metadata": {},
     "output_type": "execute_result"
    }
   ],
   "source": [
    "organism"
   ]
  },
  {
   "cell_type": "markdown",
   "metadata": {},
   "source": [
    "Estrazione dell'identificatore."
   ]
  },
  {
   "cell_type": "code",
   "execution_count": 8,
   "metadata": {},
   "outputs": [],
   "source": [
    "s = re.search('^ID\\s+(\\w+);', file_str, re.M)\n",
    "identifier = s.group(1)"
   ]
  },
  {
   "cell_type": "code",
   "execution_count": 9,
   "metadata": {},
   "outputs": [
    {
     "data": {
      "text/plain": [
       "'M10051'"
      ]
     },
     "execution_count": 9,
     "metadata": {},
     "output_type": "execute_result"
    }
   ],
   "source": [
    "identifier"
   ]
  },
  {
   "cell_type": "markdown",
   "metadata": {},
   "source": [
    "### Produzione della sequenza nucleotidica in formato FASTA"
   ]
  },
  {
   "cell_type": "markdown",
   "metadata": {},
   "source": [
    "Estrarre nella lista `seq_row_list` i *record* della sequenza nucleotidica escludendo solo l'intero finale (mantenendo gli spazi iniziali e gli spazi prima dell'intero).\n",
    "\n",
    "    tgggggccgc ctcggagcat gacccccgcg ggccagcgcc gcgcgcctga tccgaggaga       120"
   ]
  },
  {
   "cell_type": "code",
   "execution_count": 10,
   "metadata": {},
   "outputs": [],
   "source": [
    "seq_row_list = re.findall('^\\W{2}(\\D+)\\d+', file_str, re.M)"
   ]
  },
  {
   "cell_type": "code",
   "execution_count": 11,
   "metadata": {},
   "outputs": [
    {
     "data": {
      "text/plain": [
       "['   ggggggctgc gcggccgggt cggtgcgcac acgagaagga cgcgcggccc ccagcgctct        ',\n",
       " '   tgggggccgc ctcggagcat gacccccgcg ggccagcgcc gcgcgcctga tccgaggaga       ',\n",
       " '   ccccgcgctc ccgcagccat gggcaccggg ggccggcggg gggcggcggc cgcgccgctg       ',\n",
       " '   ctggtggcgg tggccgcgct gctactgggc gccgcgggcc acctgtaccc cggagaggtg       ',\n",
       " '   tgtcccggca tggatatccg gaacaacctc actaggttgc atgagctgga gaattgctct       ',\n",
       " '   gtcatcgaag gacacttgca gatactcttg atgttcaaaa cgaggcccga agatttccga       ',\n",
       " '   gacctcagtt tccccaaact catcatgatc actgattact tgctgctctt ccgggtctat       ',\n",
       " '   gggctcgaga gcctgaagga cctgttcccc aacctcacgg tcatccgggg atcacgactg       ',\n",
       " '   ttctttaact acgcgctggt catcttcgag atggttcacc tcaaggaact cggcctctac       ',\n",
       " '   aacctgatga acatcacccg gggttctgtc cgcatcgaga agaacaatga gctctgttac       ',\n",
       " '   ttggccacta tcgactggtc ccgtatcctg gattccgtgg aggataatca catcgtgttg       ',\n",
       " '   aacaaagatg acaacgagga gtgtggagac atctgtccgg gtaccgcgaa gggcaagacc       ',\n",
       " '   aactgccccg ccaccgtcat caacgggcag tttgtcgaac gatgttggac tcatagtcac       ',\n",
       " '   tgccagaaag tttgcccgac catctgtaag tcacacggct gcaccgccga aggcctctgt       ',\n",
       " '   tgccacagcg agtgcctggg caactgttct cagcccgacg accccaccaa gtgcgtggcc       ',\n",
       " '   tgccgcaact tctacctgga cggcaggtgt gtggagacct gcccgccccc gtactaccac       ',\n",
       " '   ttccaggact ggcgctgtgt gaacttcagc ttctgccagg acctgcacca caaatgcaag      ',\n",
       " '   aactcgcgga ggcagggctg ccaccaatac gtcattcaca acaacaagtg catccctgag      ',\n",
       " '   tgtccctccg ggtacacgat gaattccagc aacttgctgt gcaccccatg cctgggtccc      ',\n",
       " '   tgtcccaagg tgtgccacct cctagaaggc gagaagacca tcgactcggt gacgtctgcc      ',\n",
       " '   caggagctcc gaggatgcac cgtcatcaac gggagtctga tcatcaacat tcgaggaggc      ',\n",
       " '   aacaatctgg cagctgagct agaagccaac ctcggcctca ttgaagaaat ttcagggtat      ',\n",
       " '   ctaaaaatcc gccgatccta cgctctggtg tcactttcct tcttccggaa gttacgtctg      ',\n",
       " '   attcgaggag agaccttgga aattgggaac tactccttct atgccttgga caaccagaac      ',\n",
       " '   ctaaggcagc tctgggactg gagcaaacac aacctcacca ccactcaggg gaaactcttc      ',\n",
       " '   ttccactata accccaaact ctgcttgtca gaaatccaca agatggaaga agtttcagga      ',\n",
       " '   accaaggggc gccaggagag aaacgacatt gccctgaaga ccaatgggga caaggcatcc      ',\n",
       " '   tgtgaaaatg agttacttaa attttcttac attcggacat cttttgacaa gatcttgctg      ',\n",
       " '   agatgggagc cgtactggcc ccccgacttc cgagacctct tggggttcat gctgttctac      ',\n",
       " '   aaagaggccc cttatcagaa tgtgacggag ttcgatgggc aggatgcgtg tggttccaac      ',\n",
       " '   agttggacgg tggtagacat tgacccaccc ctgaggtcca acgaccccaa atcacagaac      ',\n",
       " '   cacccagggt ggctgatgcg gggtctcaag ccctggaccc agtatgccat ctttgtgaag      ',\n",
       " '   accctggtca ccttttcgga tgaacgccgg acctatgggg ccaagagtga catcatttat      ',\n",
       " '   gtccagacag atgccaccaa cccctctgtg cccctggatc caatctcagt gtctaactca      ',\n",
       " '   tcatcccaga ttattctgaa gtggaaacca ccctccgacc ccaatggcaa catcacccac      ',\n",
       " '   tacctggttt tctgggagag gcaggcggaa gacagtgagc tgttcgagct ggattattgc      ',\n",
       " '   ctcaaagggc tgaagctgcc ctcgaggacc tggtctccac cattcgagtc tgaagattct      ',\n",
       " '   cagaagcaca accagagtga gtatgaggat tcggccggcg aatgctgctc ctgtccaaag      ',\n",
       " '   acagactctc agatcctgaa ggagctggag gagtcctcgt ttaggaagac gtttgaggat      ',\n",
       " '   tacctgcaca acgtggtttt cgtccccaga aaaacctctt caggcactgg tgccgaggac      ',\n",
       " '   cctaggccat ctcggaaacg caggtccctt ggcgatgttg ggaatgtgac ggtggccgtg      ',\n",
       " '   cccacggtgg cagctttccc caacacttcc tcgaccagcg tgcccacgag tccggaggag      ',\n",
       " '   cacaggcctt ttgagaaggt ggtgaacaag gagtcgctgg tcatctccgg cttgcgacac      ',\n",
       " '   ttcacgggct atcgcatcga gctgcaggct tgcaaccagg acacccctga ggaacggtgc      ',\n",
       " '   agtgtggcag cctacgtcag tgcgaggacc atgcctgaag ccaaggctga tgacattgtt      ',\n",
       " '   ggccctgtga cgcatgaaat ctttgagaac aacgtcgtcc acttgatgtg gcaggagccg      ',\n",
       " '   aaggagccca atggtctgat cgtgctgtat gaagtgagtt atcggcgata tggtgatgag      ',\n",
       " '   gagctgcatc tctgcgtctc ccgcaagcac ttcgctctgg aacggggctg caggctgcgt      ',\n",
       " '   gggctgtcac cggggaacta cagcgtgcga atccgggcca cctcccttgc gggcaacggc      ',\n",
       " '   tcttggacgg aacccaccta tttctacgtg acagactatt tagacgtccc gtcaaatatt      ',\n",
       " '   gcaaaaatta tcatcggccc cctcatcttt gtctttctct tcagtgttgt gattggaagt      ',\n",
       " '   atttatctat tcctgagaaa gaggcagcca gatgggccgc tgggaccgct ttacgcttct      ',\n",
       " '   tcaaaccctg agtatctcag tgccagtgat gtgtttccat gctctgtgta cgtgccggac      ',\n",
       " '   gagtgggagg tgtctcgaga gaagatcacc ctccttcgag agctggggca gggctccttc      ',\n",
       " '   ggcatggtgt atgagggcaa tgccagggac atcatcaagg gtgaggcaga gacccgcgtg      ',\n",
       " '   gcggtgaaga cggtcaacga gtcagccagt ctccgagagc ggattgagtt cctcaatgag      ',\n",
       " '   gcctcggtca tgaagggctt cacctgccat cacgtggtgc gcctcctggg agtggtgtcc      ',\n",
       " '   aagggccagc ccacgctggt ggtgatggag ctgatggctc acggagacct gaagagctac      ',\n",
       " '   ctccgttctc tgcggccaga ggctgagaat aatcctggcc gccctccccc tacccttcaa      ',\n",
       " '   gagatgattc agatggcggc agagattgct gacgggatgg cctacctgaa cgccaagaag      ',\n",
       " '   tttgtgcatc gggacctggc agcgagaaac tgcatggtcg cccatgattt tactgtcaaa      ',\n",
       " '   attggagact ttggaatgac cagagacatc tatgaaacgg attactaccg gaaagggggc      ',\n",
       " '   aagggtctgc tccctgtacg gtggatggca ccggagtccc tgaaggatgg ggtcttcacc      ',\n",
       " '   acttcttctg acatgtggtc ctttggcgtg gtcctttggg aaatcaccag cttggcagaa      ',\n",
       " '   cagccttacc aaggcctgtc taatgaacag gtgttgaaat ttgtcatgga tggagggtat      ',\n",
       " '   ctggatcaac ccgacaactg tccagagaga gtcactgacc tcatgcgcat gtgctggcaa      ',\n",
       " '   ttcaacccca agatgaggcc aaccttcctg gagattgtca acctgctcaa ggacgacctg      ',\n",
       " '   caccccagct ttccagaggt gtcgttcttc cacagcgagg agaacaaggc tcccgagagt      ',\n",
       " '   gaggagctgg agatggagtt tgaggacatg gagaatgtgc ccctggaccg ttcctcgcac      ',\n",
       " '   tgtcagaggg aggaggcggg gggccgggat ggagggtcct cgctgggttt caagcggagc      ',\n",
       " '   tacgaggaac acatccctta cacacacatg aacggaggca agaaaaacgg gcggattctg      ',\n",
       " '   accttgcctc ggtccaatcc ttcctaacag tgcctaccgt ggcgggggcg ggcaggggtt      ',\n",
       " '   cccattttcg ctttcctctg gtttgaaagc ctctggaaaa ctcaggattc tcacgactct      ',\n",
       " '   accatgtcca gtggagttca gagatcgttc ctatacattt ctgttcatct taaggtggac      ',\n",
       " '   tcgtttggtt accaatttaa ctagtcctgc agaggattta actgtgaacc tggagggcaa      ',\n",
       " '   ggggtttcca cagttgctgc tcctttgggg caacgacggt ttcaaaccag gattttgtgt      ',\n",
       " '   tttttcgttc cccccacccg cccccagcag atggaaagaa agcacctgtt tttacaaatt      ',\n",
       " '   cttttttttt tttttttttt tttttttttg ctggtgtctg agcttcagta taaaagacaa      ',\n",
       " '   aacttcctgt ttgtggaaca aaatttcgaa agaaaaaacc aaa                        ']"
      ]
     },
     "execution_count": 11,
     "metadata": {},
     "output_type": "execute_result"
    }
   ],
   "source": [
    "seq_row_list"
   ]
  },
  {
   "cell_type": "markdown",
   "metadata": {},
   "source": [
    "Estrarre da `seq_row_list` la lista `seq_chunk_list` contenente i *chunks* di (al più) lunghezza 10 della sequenza nucleotidica.\n",
    "\n",
    "**NOTA BENE**: l'elemento `seq_chunk_list[i]` è una lista annidata e contiene i sei *chunks* relativi all'i-esimo *record* di `seq_row_list`."
   ]
  },
  {
   "cell_type": "code",
   "execution_count": 12,
   "metadata": {},
   "outputs": [],
   "source": [
    "seq_chunk_list = [re.findall('\\w+', row) for row in seq_row_list]"
   ]
  },
  {
   "cell_type": "code",
   "execution_count": 13,
   "metadata": {},
   "outputs": [
    {
     "data": {
      "text/plain": [
       "[['ggggggctgc',\n",
       "  'gcggccgggt',\n",
       "  'cggtgcgcac',\n",
       "  'acgagaagga',\n",
       "  'cgcgcggccc',\n",
       "  'ccagcgctct'],\n",
       " ['tgggggccgc',\n",
       "  'ctcggagcat',\n",
       "  'gacccccgcg',\n",
       "  'ggccagcgcc',\n",
       "  'gcgcgcctga',\n",
       "  'tccgaggaga'],\n",
       " ['ccccgcgctc',\n",
       "  'ccgcagccat',\n",
       "  'gggcaccggg',\n",
       "  'ggccggcggg',\n",
       "  'gggcggcggc',\n",
       "  'cgcgccgctg'],\n",
       " ['ctggtggcgg',\n",
       "  'tggccgcgct',\n",
       "  'gctactgggc',\n",
       "  'gccgcgggcc',\n",
       "  'acctgtaccc',\n",
       "  'cggagaggtg'],\n",
       " ['tgtcccggca',\n",
       "  'tggatatccg',\n",
       "  'gaacaacctc',\n",
       "  'actaggttgc',\n",
       "  'atgagctgga',\n",
       "  'gaattgctct'],\n",
       " ['gtcatcgaag',\n",
       "  'gacacttgca',\n",
       "  'gatactcttg',\n",
       "  'atgttcaaaa',\n",
       "  'cgaggcccga',\n",
       "  'agatttccga'],\n",
       " ['gacctcagtt',\n",
       "  'tccccaaact',\n",
       "  'catcatgatc',\n",
       "  'actgattact',\n",
       "  'tgctgctctt',\n",
       "  'ccgggtctat'],\n",
       " ['gggctcgaga',\n",
       "  'gcctgaagga',\n",
       "  'cctgttcccc',\n",
       "  'aacctcacgg',\n",
       "  'tcatccgggg',\n",
       "  'atcacgactg'],\n",
       " ['ttctttaact',\n",
       "  'acgcgctggt',\n",
       "  'catcttcgag',\n",
       "  'atggttcacc',\n",
       "  'tcaaggaact',\n",
       "  'cggcctctac'],\n",
       " ['aacctgatga',\n",
       "  'acatcacccg',\n",
       "  'gggttctgtc',\n",
       "  'cgcatcgaga',\n",
       "  'agaacaatga',\n",
       "  'gctctgttac'],\n",
       " ['ttggccacta',\n",
       "  'tcgactggtc',\n",
       "  'ccgtatcctg',\n",
       "  'gattccgtgg',\n",
       "  'aggataatca',\n",
       "  'catcgtgttg'],\n",
       " ['aacaaagatg',\n",
       "  'acaacgagga',\n",
       "  'gtgtggagac',\n",
       "  'atctgtccgg',\n",
       "  'gtaccgcgaa',\n",
       "  'gggcaagacc'],\n",
       " ['aactgccccg',\n",
       "  'ccaccgtcat',\n",
       "  'caacgggcag',\n",
       "  'tttgtcgaac',\n",
       "  'gatgttggac',\n",
       "  'tcatagtcac'],\n",
       " ['tgccagaaag',\n",
       "  'tttgcccgac',\n",
       "  'catctgtaag',\n",
       "  'tcacacggct',\n",
       "  'gcaccgccga',\n",
       "  'aggcctctgt'],\n",
       " ['tgccacagcg',\n",
       "  'agtgcctggg',\n",
       "  'caactgttct',\n",
       "  'cagcccgacg',\n",
       "  'accccaccaa',\n",
       "  'gtgcgtggcc'],\n",
       " ['tgccgcaact',\n",
       "  'tctacctgga',\n",
       "  'cggcaggtgt',\n",
       "  'gtggagacct',\n",
       "  'gcccgccccc',\n",
       "  'gtactaccac'],\n",
       " ['ttccaggact',\n",
       "  'ggcgctgtgt',\n",
       "  'gaacttcagc',\n",
       "  'ttctgccagg',\n",
       "  'acctgcacca',\n",
       "  'caaatgcaag'],\n",
       " ['aactcgcgga',\n",
       "  'ggcagggctg',\n",
       "  'ccaccaatac',\n",
       "  'gtcattcaca',\n",
       "  'acaacaagtg',\n",
       "  'catccctgag'],\n",
       " ['tgtccctccg',\n",
       "  'ggtacacgat',\n",
       "  'gaattccagc',\n",
       "  'aacttgctgt',\n",
       "  'gcaccccatg',\n",
       "  'cctgggtccc'],\n",
       " ['tgtcccaagg',\n",
       "  'tgtgccacct',\n",
       "  'cctagaaggc',\n",
       "  'gagaagacca',\n",
       "  'tcgactcggt',\n",
       "  'gacgtctgcc'],\n",
       " ['caggagctcc',\n",
       "  'gaggatgcac',\n",
       "  'cgtcatcaac',\n",
       "  'gggagtctga',\n",
       "  'tcatcaacat',\n",
       "  'tcgaggaggc'],\n",
       " ['aacaatctgg',\n",
       "  'cagctgagct',\n",
       "  'agaagccaac',\n",
       "  'ctcggcctca',\n",
       "  'ttgaagaaat',\n",
       "  'ttcagggtat'],\n",
       " ['ctaaaaatcc',\n",
       "  'gccgatccta',\n",
       "  'cgctctggtg',\n",
       "  'tcactttcct',\n",
       "  'tcttccggaa',\n",
       "  'gttacgtctg'],\n",
       " ['attcgaggag',\n",
       "  'agaccttgga',\n",
       "  'aattgggaac',\n",
       "  'tactccttct',\n",
       "  'atgccttgga',\n",
       "  'caaccagaac'],\n",
       " ['ctaaggcagc',\n",
       "  'tctgggactg',\n",
       "  'gagcaaacac',\n",
       "  'aacctcacca',\n",
       "  'ccactcaggg',\n",
       "  'gaaactcttc'],\n",
       " ['ttccactata',\n",
       "  'accccaaact',\n",
       "  'ctgcttgtca',\n",
       "  'gaaatccaca',\n",
       "  'agatggaaga',\n",
       "  'agtttcagga'],\n",
       " ['accaaggggc',\n",
       "  'gccaggagag',\n",
       "  'aaacgacatt',\n",
       "  'gccctgaaga',\n",
       "  'ccaatgggga',\n",
       "  'caaggcatcc'],\n",
       " ['tgtgaaaatg',\n",
       "  'agttacttaa',\n",
       "  'attttcttac',\n",
       "  'attcggacat',\n",
       "  'cttttgacaa',\n",
       "  'gatcttgctg'],\n",
       " ['agatgggagc',\n",
       "  'cgtactggcc',\n",
       "  'ccccgacttc',\n",
       "  'cgagacctct',\n",
       "  'tggggttcat',\n",
       "  'gctgttctac'],\n",
       " ['aaagaggccc',\n",
       "  'cttatcagaa',\n",
       "  'tgtgacggag',\n",
       "  'ttcgatgggc',\n",
       "  'aggatgcgtg',\n",
       "  'tggttccaac'],\n",
       " ['agttggacgg',\n",
       "  'tggtagacat',\n",
       "  'tgacccaccc',\n",
       "  'ctgaggtcca',\n",
       "  'acgaccccaa',\n",
       "  'atcacagaac'],\n",
       " ['cacccagggt',\n",
       "  'ggctgatgcg',\n",
       "  'gggtctcaag',\n",
       "  'ccctggaccc',\n",
       "  'agtatgccat',\n",
       "  'ctttgtgaag'],\n",
       " ['accctggtca',\n",
       "  'ccttttcgga',\n",
       "  'tgaacgccgg',\n",
       "  'acctatgggg',\n",
       "  'ccaagagtga',\n",
       "  'catcatttat'],\n",
       " ['gtccagacag',\n",
       "  'atgccaccaa',\n",
       "  'cccctctgtg',\n",
       "  'cccctggatc',\n",
       "  'caatctcagt',\n",
       "  'gtctaactca'],\n",
       " ['tcatcccaga',\n",
       "  'ttattctgaa',\n",
       "  'gtggaaacca',\n",
       "  'ccctccgacc',\n",
       "  'ccaatggcaa',\n",
       "  'catcacccac'],\n",
       " ['tacctggttt',\n",
       "  'tctgggagag',\n",
       "  'gcaggcggaa',\n",
       "  'gacagtgagc',\n",
       "  'tgttcgagct',\n",
       "  'ggattattgc'],\n",
       " ['ctcaaagggc',\n",
       "  'tgaagctgcc',\n",
       "  'ctcgaggacc',\n",
       "  'tggtctccac',\n",
       "  'cattcgagtc',\n",
       "  'tgaagattct'],\n",
       " ['cagaagcaca',\n",
       "  'accagagtga',\n",
       "  'gtatgaggat',\n",
       "  'tcggccggcg',\n",
       "  'aatgctgctc',\n",
       "  'ctgtccaaag'],\n",
       " ['acagactctc',\n",
       "  'agatcctgaa',\n",
       "  'ggagctggag',\n",
       "  'gagtcctcgt',\n",
       "  'ttaggaagac',\n",
       "  'gtttgaggat'],\n",
       " ['tacctgcaca',\n",
       "  'acgtggtttt',\n",
       "  'cgtccccaga',\n",
       "  'aaaacctctt',\n",
       "  'caggcactgg',\n",
       "  'tgccgaggac'],\n",
       " ['cctaggccat',\n",
       "  'ctcggaaacg',\n",
       "  'caggtccctt',\n",
       "  'ggcgatgttg',\n",
       "  'ggaatgtgac',\n",
       "  'ggtggccgtg'],\n",
       " ['cccacggtgg',\n",
       "  'cagctttccc',\n",
       "  'caacacttcc',\n",
       "  'tcgaccagcg',\n",
       "  'tgcccacgag',\n",
       "  'tccggaggag'],\n",
       " ['cacaggcctt',\n",
       "  'ttgagaaggt',\n",
       "  'ggtgaacaag',\n",
       "  'gagtcgctgg',\n",
       "  'tcatctccgg',\n",
       "  'cttgcgacac'],\n",
       " ['ttcacgggct',\n",
       "  'atcgcatcga',\n",
       "  'gctgcaggct',\n",
       "  'tgcaaccagg',\n",
       "  'acacccctga',\n",
       "  'ggaacggtgc'],\n",
       " ['agtgtggcag',\n",
       "  'cctacgtcag',\n",
       "  'tgcgaggacc',\n",
       "  'atgcctgaag',\n",
       "  'ccaaggctga',\n",
       "  'tgacattgtt'],\n",
       " ['ggccctgtga',\n",
       "  'cgcatgaaat',\n",
       "  'ctttgagaac',\n",
       "  'aacgtcgtcc',\n",
       "  'acttgatgtg',\n",
       "  'gcaggagccg'],\n",
       " ['aaggagccca',\n",
       "  'atggtctgat',\n",
       "  'cgtgctgtat',\n",
       "  'gaagtgagtt',\n",
       "  'atcggcgata',\n",
       "  'tggtgatgag'],\n",
       " ['gagctgcatc',\n",
       "  'tctgcgtctc',\n",
       "  'ccgcaagcac',\n",
       "  'ttcgctctgg',\n",
       "  'aacggggctg',\n",
       "  'caggctgcgt'],\n",
       " ['gggctgtcac',\n",
       "  'cggggaacta',\n",
       "  'cagcgtgcga',\n",
       "  'atccgggcca',\n",
       "  'cctcccttgc',\n",
       "  'gggcaacggc'],\n",
       " ['tcttggacgg',\n",
       "  'aacccaccta',\n",
       "  'tttctacgtg',\n",
       "  'acagactatt',\n",
       "  'tagacgtccc',\n",
       "  'gtcaaatatt'],\n",
       " ['gcaaaaatta',\n",
       "  'tcatcggccc',\n",
       "  'cctcatcttt',\n",
       "  'gtctttctct',\n",
       "  'tcagtgttgt',\n",
       "  'gattggaagt'],\n",
       " ['atttatctat',\n",
       "  'tcctgagaaa',\n",
       "  'gaggcagcca',\n",
       "  'gatgggccgc',\n",
       "  'tgggaccgct',\n",
       "  'ttacgcttct'],\n",
       " ['tcaaaccctg',\n",
       "  'agtatctcag',\n",
       "  'tgccagtgat',\n",
       "  'gtgtttccat',\n",
       "  'gctctgtgta',\n",
       "  'cgtgccggac'],\n",
       " ['gagtgggagg',\n",
       "  'tgtctcgaga',\n",
       "  'gaagatcacc',\n",
       "  'ctccttcgag',\n",
       "  'agctggggca',\n",
       "  'gggctccttc'],\n",
       " ['ggcatggtgt',\n",
       "  'atgagggcaa',\n",
       "  'tgccagggac',\n",
       "  'atcatcaagg',\n",
       "  'gtgaggcaga',\n",
       "  'gacccgcgtg'],\n",
       " ['gcggtgaaga',\n",
       "  'cggtcaacga',\n",
       "  'gtcagccagt',\n",
       "  'ctccgagagc',\n",
       "  'ggattgagtt',\n",
       "  'cctcaatgag'],\n",
       " ['gcctcggtca',\n",
       "  'tgaagggctt',\n",
       "  'cacctgccat',\n",
       "  'cacgtggtgc',\n",
       "  'gcctcctggg',\n",
       "  'agtggtgtcc'],\n",
       " ['aagggccagc',\n",
       "  'ccacgctggt',\n",
       "  'ggtgatggag',\n",
       "  'ctgatggctc',\n",
       "  'acggagacct',\n",
       "  'gaagagctac'],\n",
       " ['ctccgttctc',\n",
       "  'tgcggccaga',\n",
       "  'ggctgagaat',\n",
       "  'aatcctggcc',\n",
       "  'gccctccccc',\n",
       "  'tacccttcaa'],\n",
       " ['gagatgattc',\n",
       "  'agatggcggc',\n",
       "  'agagattgct',\n",
       "  'gacgggatgg',\n",
       "  'cctacctgaa',\n",
       "  'cgccaagaag'],\n",
       " ['tttgtgcatc',\n",
       "  'gggacctggc',\n",
       "  'agcgagaaac',\n",
       "  'tgcatggtcg',\n",
       "  'cccatgattt',\n",
       "  'tactgtcaaa'],\n",
       " ['attggagact',\n",
       "  'ttggaatgac',\n",
       "  'cagagacatc',\n",
       "  'tatgaaacgg',\n",
       "  'attactaccg',\n",
       "  'gaaagggggc'],\n",
       " ['aagggtctgc',\n",
       "  'tccctgtacg',\n",
       "  'gtggatggca',\n",
       "  'ccggagtccc',\n",
       "  'tgaaggatgg',\n",
       "  'ggtcttcacc'],\n",
       " ['acttcttctg',\n",
       "  'acatgtggtc',\n",
       "  'ctttggcgtg',\n",
       "  'gtcctttggg',\n",
       "  'aaatcaccag',\n",
       "  'cttggcagaa'],\n",
       " ['cagccttacc',\n",
       "  'aaggcctgtc',\n",
       "  'taatgaacag',\n",
       "  'gtgttgaaat',\n",
       "  'ttgtcatgga',\n",
       "  'tggagggtat'],\n",
       " ['ctggatcaac',\n",
       "  'ccgacaactg',\n",
       "  'tccagagaga',\n",
       "  'gtcactgacc',\n",
       "  'tcatgcgcat',\n",
       "  'gtgctggcaa'],\n",
       " ['ttcaacccca',\n",
       "  'agatgaggcc',\n",
       "  'aaccttcctg',\n",
       "  'gagattgtca',\n",
       "  'acctgctcaa',\n",
       "  'ggacgacctg'],\n",
       " ['caccccagct',\n",
       "  'ttccagaggt',\n",
       "  'gtcgttcttc',\n",
       "  'cacagcgagg',\n",
       "  'agaacaaggc',\n",
       "  'tcccgagagt'],\n",
       " ['gaggagctgg',\n",
       "  'agatggagtt',\n",
       "  'tgaggacatg',\n",
       "  'gagaatgtgc',\n",
       "  'ccctggaccg',\n",
       "  'ttcctcgcac'],\n",
       " ['tgtcagaggg',\n",
       "  'aggaggcggg',\n",
       "  'gggccgggat',\n",
       "  'ggagggtcct',\n",
       "  'cgctgggttt',\n",
       "  'caagcggagc'],\n",
       " ['tacgaggaac',\n",
       "  'acatccctta',\n",
       "  'cacacacatg',\n",
       "  'aacggaggca',\n",
       "  'agaaaaacgg',\n",
       "  'gcggattctg'],\n",
       " ['accttgcctc',\n",
       "  'ggtccaatcc',\n",
       "  'ttcctaacag',\n",
       "  'tgcctaccgt',\n",
       "  'ggcgggggcg',\n",
       "  'ggcaggggtt'],\n",
       " ['cccattttcg',\n",
       "  'ctttcctctg',\n",
       "  'gtttgaaagc',\n",
       "  'ctctggaaaa',\n",
       "  'ctcaggattc',\n",
       "  'tcacgactct'],\n",
       " ['accatgtcca',\n",
       "  'gtggagttca',\n",
       "  'gagatcgttc',\n",
       "  'ctatacattt',\n",
       "  'ctgttcatct',\n",
       "  'taaggtggac'],\n",
       " ['tcgtttggtt',\n",
       "  'accaatttaa',\n",
       "  'ctagtcctgc',\n",
       "  'agaggattta',\n",
       "  'actgtgaacc',\n",
       "  'tggagggcaa'],\n",
       " ['ggggtttcca',\n",
       "  'cagttgctgc',\n",
       "  'tcctttgggg',\n",
       "  'caacgacggt',\n",
       "  'ttcaaaccag',\n",
       "  'gattttgtgt'],\n",
       " ['tttttcgttc',\n",
       "  'cccccacccg',\n",
       "  'cccccagcag',\n",
       "  'atggaaagaa',\n",
       "  'agcacctgtt',\n",
       "  'tttacaaatt'],\n",
       " ['cttttttttt',\n",
       "  'tttttttttt',\n",
       "  'tttttttttg',\n",
       "  'ctggtgtctg',\n",
       "  'agcttcagta',\n",
       "  'taaaagacaa'],\n",
       " ['aacttcctgt', 'ttgtggaaca', 'aaatttcgaa', 'agaaaaaacc', 'aaa']]"
      ]
     },
     "execution_count": 13,
     "metadata": {},
     "output_type": "execute_result"
    }
   ],
   "source": [
    "seq_chunk_list"
   ]
  },
  {
   "cell_type": "markdown",
   "metadata": {},
   "source": [
    "Concatenare i *chunks* della lista `seq_chunk_list` per ottenere la sequenza nucleotidica nella variabile `nucleotide_sequence`."
   ]
  },
  {
   "cell_type": "code",
   "execution_count": 14,
   "metadata": {},
   "outputs": [],
   "source": []
  },
  {
   "cell_type": "markdown",
   "metadata": {},
   "source": [
    "Sostituire in `nucleotide_sequence` tutti i simboli `t` con simboli `u`."
   ]
  },
  {
   "cell_type": "code",
   "execution_count": 15,
   "metadata": {},
   "outputs": [],
   "source": []
  },
  {
   "cell_type": "code",
   "execution_count": 16,
   "metadata": {},
   "outputs": [
    {
     "data": {
      "text/plain": [
       "'ggggggcugcgcggccgggucggugcgcacacgagaaggacgcgcggcccccagcgcucuugggggccgccucggagcaugacccccgcgggccagcgccgcgcgccugauccgaggagaccccgcgcucccgcagccaugggcaccgggggccggcggggggcggcggccgcgccgcugcugguggcgguggccgcgcugcuacugggcgccgcgggccaccuguaccccggagaggugugucccggcauggauauccggaacaaccucacuagguugcaugagcuggagaauugcucugucaucgaaggacacuugcagauacucuugauguucaaaacgaggcccgaagauuuccgagaccucaguuuccccaaacucaucaugaucacugauuacuugcugcucuuccgggucuaugggcucgagagccugaaggaccuguuccccaaccucacggucauccggggaucacgacuguucuuuaacuacgcgcuggucaucuucgagaugguucaccucaaggaacucggccucuacaaccugaugaacaucacccgggguucuguccgcaucgagaagaacaaugagcucuguuacuuggccacuaucgacuggucccguauccuggauuccguggaggauaaucacaucguguugaacaaagaugacaacgaggaguguggagacaucuguccggguaccgcgaagggcaagaccaacugccccgccaccgucaucaacgggcaguuugucgaacgauguuggacucauagucacugccagaaaguuugcccgaccaucuguaagucacacggcugcaccgccgaaggccucuguugccacagcgagugccugggcaacuguucucagcccgacgaccccaccaagugcguggccugccgcaacuucuaccuggacggcagguguguggagaccugcccgcccccguacuaccacuuccaggacuggcgcugugugaacuucagcuucugccaggaccugcaccacaaaugcaagaacucgcggaggcagggcugccaccaauacgucauucacaacaacaagugcaucccugagugucccuccggguacacgaugaauuccagcaacuugcugugcaccccaugccugggucccugucccaaggugugccaccuccuagaaggcgagaagaccaucgacucggugacgucugcccaggagcuccgaggaugcaccgucaucaacgggagucugaucaucaacauucgaggaggcaacaaucuggcagcugagcuagaagccaaccucggccucauugaagaaauuucaggguaucuaaaaauccgccgauccuacgcucuggugucacuuuccuucuuccggaaguuacgucugauucgaggagagaccuuggaaauugggaacuacuccuucuaugccuuggacaaccagaaccuaaggcagcucugggacuggagcaaacacaaccucaccaccacucaggggaaacucuucuuccacuauaaccccaaacucugcuugucagaaauccacaagauggaagaaguuucaggaaccaaggggcgccaggagagaaacgacauugcccugaagaccaauggggacaaggcauccugugaaaaugaguuacuuaaauuuucuuacauucggacaucuuuugacaagaucuugcugagaugggagccguacuggccccccgacuuccgagaccucuugggguucaugcuguucuacaaagaggccccuuaucagaaugugacggaguucgaugggcaggaugcgugugguuccaacaguuggacggugguagacauugacccaccccugagguccaacgaccccaaaucacagaaccacccaggguggcugaugcggggucucaagcccuggacccaguaugccaucuuugugaagacccuggucaccuuuucggaugaacgccggaccuauggggccaagagugacaucauuuauguccagacagaugccaccaaccccucugugccccuggauccaaucucagugucuaacucaucaucccagauuauucugaaguggaaaccacccuccgaccccaauggcaacaucacccacuaccugguuuucugggagaggcaggcggaagacagugagcuguucgagcuggauuauugccucaaagggcugaagcugcccucgaggaccuggucuccaccauucgagucugaagauucucagaagcacaaccagagugaguaugaggauucggccggcgaaugcugcuccuguccaaagacagacucucagauccugaaggagcuggaggaguccucguuuaggaagacguuugaggauuaccugcacaacgugguuuucguccccagaaaaaccucuucaggcacuggugccgaggacccuaggccaucucggaaacgcaggucccuuggcgauguugggaaugugacgguggccgugcccacgguggcagcuuuccccaacacuuccucgaccagcgugcccacgaguccggaggagcacaggccuuuugagaagguggugaacaaggagucgcuggucaucuccggcuugcgacacuucacgggcuaucgcaucgagcugcaggcuugcaaccaggacaccccugaggaacggugcaguguggcagccuacgucagugcgaggaccaugccugaagccaaggcugaugacauuguuggcccugugacgcaugaaaucuuugagaacaacgucguccacuugauguggcaggagccgaaggagcccaauggucugaucgugcuguaugaagugaguuaucggcgauauggugaugaggagcugcaucucugcgucucccgcaagcacuucgcucuggaacggggcugcaggcugcgugggcugucaccggggaacuacagcgugcgaauccgggccaccucccuugcgggcaacggcucuuggacggaacccaccuauuucuacgugacagacuauuuagacgucccgucaaauauugcaaaaauuaucaucggcccccucaucuuugucuuucucuucaguguugugauuggaaguauuuaucuauuccugagaaagaggcagccagaugggccgcugggaccgcuuuacgcuucuucaaacccugaguaucucagugccagugauguguuuccaugcucuguguacgugccggacgagugggaggugucucgagagaagaucacccuccuucgagagcuggggcagggcuccuucggcaugguguaugagggcaaugccagggacaucaucaagggugaggcagagacccgcguggcggugaagacggucaacgagucagccagucuccgagagcggauugaguuccucaaugaggccucggucaugaagggcuucaccugccaucacguggugcgccuccugggagugguguccaagggccagcccacgcugguggugauggagcugauggcucacggagaccugaagagcuaccuccguucucugcggccagaggcugagaauaauccuggccgcccucccccuacccuucaagagaugauucagauggcggcagagauugcugacgggauggccuaccugaacgccaagaaguuugugcaucgggaccuggcagcgagaaacugcauggucgcccaugauuuuacugucaaaauuggagacuuuggaaugaccagagacaucuaugaaacggauuacuaccggaaagggggcaagggucugcucccuguacgguggauggcaccggagucccugaaggauggggucuucaccacuucuucugacaugugguccuuuggcgugguccuuugggaaaucaccagcuuggcagaacagccuuaccaaggccugucuaaugaacagguguugaaauuugucauggauggaggguaucuggaucaacccgacaacuguccagagagagucacugaccucaugcgcaugugcuggcaauucaaccccaagaugaggccaaccuuccuggagauugucaaccugcucaaggacgaccugcaccccagcuuuccagaggugucguucuuccacagcgaggagaacaaggcucccgagagugaggagcuggagauggaguuugaggacauggagaaugugccccuggaccguuccucgcacugucagagggaggaggcggggggccgggauggaggguccucgcuggguuucaagcggagcuacgaggaacacaucccuuacacacacaugaacggaggcaagaaaaacgggcggauucugaccuugccucgguccaauccuuccuaacagugccuaccguggcgggggcgggcagggguucccauuuucgcuuuccucugguuugaaagccucuggaaaacucaggauucucacgacucuaccauguccaguggaguucagagaucguuccuauacauuucuguucaucuuaagguggacucguuugguuaccaauuuaacuaguccugcagaggauuuaacugugaaccuggagggcaagggguuuccacaguugcugcuccuuuggggcaacgacgguuucaaaccaggauuuuguguuuuuucguuccccccacccgcccccagcagauggaaagaaagcaccuguuuuuacaaauucuuuuuuuuuuuuuuuuuuuuuuuuuuuugcuggugucugagcuucaguauaaaagacaaaacuuccuguuuguggaacaaaauuucgaaagaaaaaaccaaa'"
      ]
     },
     "execution_count": 16,
     "metadata": {},
     "output_type": "execute_result"
    }
   ],
   "source": [
    "nucleotide_sequence"
   ]
  },
  {
   "cell_type": "markdown",
   "metadata": {},
   "source": [
    "Produrre nella variabile `nucleotide_sequence_fasta` la sequenza nucleotidica in formato FASTA con il seguente *header*:\n",
    "\n",
    "    >M10051-HUM"
   ]
  },
  {
   "cell_type": "code",
   "execution_count": 17,
   "metadata": {},
   "outputs": [],
   "source": []
  },
  {
   "cell_type": "code",
   "execution_count": 18,
   "metadata": {},
   "outputs": [
    {
     "name": "stdout",
     "output_type": "stream",
     "text": [
      ">M10051-HUM\n",
      "ggggggcugcgcggccgggucggugcgcacacgagaaggacgcgcggcccccagcgcucuugggggccgccucggagcau\n",
      "gacccccgcgggccagcgccgcgcgccugauccgaggagaccccgcgcucccgcagccaugggcaccgggggccggcggg\n",
      "gggcggcggccgcgccgcugcugguggcgguggccgcgcugcuacugggcgccgcgggccaccuguaccccggagaggug\n",
      "ugucccggcauggauauccggaacaaccucacuagguugcaugagcuggagaauugcucugucaucgaaggacacuugca\n",
      "gauacucuugauguucaaaacgaggcccgaagauuuccgagaccucaguuuccccaaacucaucaugaucacugauuacu\n",
      "ugcugcucuuccgggucuaugggcucgagagccugaaggaccuguuccccaaccucacggucauccggggaucacgacug\n",
      "uucuuuaacuacgcgcuggucaucuucgagaugguucaccucaaggaacucggccucuacaaccugaugaacaucacccg\n",
      "ggguucuguccgcaucgagaagaacaaugagcucuguuacuuggccacuaucgacuggucccguauccuggauuccgugg\n",
      "aggauaaucacaucguguugaacaaagaugacaacgaggaguguggagacaucuguccggguaccgcgaagggcaagacc\n",
      "aacugccccgccaccgucaucaacgggcaguuugucgaacgauguuggacucauagucacugccagaaaguuugcccgac\n",
      "caucuguaagucacacggcugcaccgccgaaggccucuguugccacagcgagugccugggcaacuguucucagcccgacg\n",
      "accccaccaagugcguggccugccgcaacuucuaccuggacggcagguguguggagaccugcccgcccccguacuaccac\n",
      "uuccaggacuggcgcugugugaacuucagcuucugccaggaccugcaccacaaaugcaagaacucgcggaggcagggcug\n",
      "ccaccaauacgucauucacaacaacaagugcaucccugagugucccuccggguacacgaugaauuccagcaacuugcugu\n",
      "gcaccccaugccugggucccugucccaaggugugccaccuccuagaaggcgagaagaccaucgacucggugacgucugcc\n",
      "caggagcuccgaggaugcaccgucaucaacgggagucugaucaucaacauucgaggaggcaacaaucuggcagcugagcu\n",
      "agaagccaaccucggccucauugaagaaauuucaggguaucuaaaaauccgccgauccuacgcucuggugucacuuuccu\n",
      "ucuuccggaaguuacgucugauucgaggagagaccuuggaaauugggaacuacuccuucuaugccuuggacaaccagaac\n",
      "cuaaggcagcucugggacuggagcaaacacaaccucaccaccacucaggggaaacucuucuuccacuauaaccccaaacu\n",
      "cugcuugucagaaauccacaagauggaagaaguuucaggaaccaaggggcgccaggagagaaacgacauugcccugaaga\n",
      "ccaauggggacaaggcauccugugaaaaugaguuacuuaaauuuucuuacauucggacaucuuuugacaagaucuugcug\n",
      "agaugggagccguacuggccccccgacuuccgagaccucuugggguucaugcuguucuacaaagaggccccuuaucagaa\n",
      "ugugacggaguucgaugggcaggaugcgugugguuccaacaguuggacggugguagacauugacccaccccugaggucca\n",
      "acgaccccaaaucacagaaccacccaggguggcugaugcggggucucaagcccuggacccaguaugccaucuuugugaag\n",
      "acccuggucaccuuuucggaugaacgccggaccuauggggccaagagugacaucauuuauguccagacagaugccaccaa\n",
      "ccccucugugccccuggauccaaucucagugucuaacucaucaucccagauuauucugaaguggaaaccacccuccgacc\n",
      "ccaauggcaacaucacccacuaccugguuuucugggagaggcaggcggaagacagugagcuguucgagcuggauuauugc\n",
      "cucaaagggcugaagcugcccucgaggaccuggucuccaccauucgagucugaagauucucagaagcacaaccagaguga\n",
      "guaugaggauucggccggcgaaugcugcuccuguccaaagacagacucucagauccugaaggagcuggaggaguccucgu\n",
      "uuaggaagacguuugaggauuaccugcacaacgugguuuucguccccagaaaaaccucuucaggcacuggugccgaggac\n",
      "ccuaggccaucucggaaacgcaggucccuuggcgauguugggaaugugacgguggccgugcccacgguggcagcuuuccc\n",
      "caacacuuccucgaccagcgugcccacgaguccggaggagcacaggccuuuugagaagguggugaacaaggagucgcugg\n",
      "ucaucuccggcuugcgacacuucacgggcuaucgcaucgagcugcaggcuugcaaccaggacaccccugaggaacggugc\n",
      "aguguggcagccuacgucagugcgaggaccaugccugaagccaaggcugaugacauuguuggcccugugacgcaugaaau\n",
      "cuuugagaacaacgucguccacuugauguggcaggagccgaaggagcccaauggucugaucgugcuguaugaagugaguu\n",
      "aucggcgauauggugaugaggagcugcaucucugcgucucccgcaagcacuucgcucuggaacggggcugcaggcugcgu\n",
      "gggcugucaccggggaacuacagcgugcgaauccgggccaccucccuugcgggcaacggcucuuggacggaacccaccua\n",
      "uuucuacgugacagacuauuuagacgucccgucaaauauugcaaaaauuaucaucggcccccucaucuuugucuuucucu\n",
      "ucaguguugugauuggaaguauuuaucuauuccugagaaagaggcagccagaugggccgcugggaccgcuuuacgcuucu\n",
      "ucaaacccugaguaucucagugccagugauguguuuccaugcucuguguacgugccggacgagugggaggugucucgaga\n",
      "gaagaucacccuccuucgagagcuggggcagggcuccuucggcaugguguaugagggcaaugccagggacaucaucaagg\n",
      "gugaggcagagacccgcguggcggugaagacggucaacgagucagccagucuccgagagcggauugaguuccucaaugag\n",
      "gccucggucaugaagggcuucaccugccaucacguggugcgccuccugggagugguguccaagggccagcccacgcuggu\n",
      "ggugauggagcugauggcucacggagaccugaagagcuaccuccguucucugcggccagaggcugagaauaauccuggcc\n",
      "gcccucccccuacccuucaagagaugauucagauggcggcagagauugcugacgggauggccuaccugaacgccaagaag\n",
      "uuugugcaucgggaccuggcagcgagaaacugcauggucgcccaugauuuuacugucaaaauuggagacuuuggaaugac\n",
      "cagagacaucuaugaaacggauuacuaccggaaagggggcaagggucugcucccuguacgguggauggcaccggaguccc\n",
      "ugaaggauggggucuucaccacuucuucugacaugugguccuuuggcgugguccuuugggaaaucaccagcuuggcagaa\n",
      "cagccuuaccaaggccugucuaaugaacagguguugaaauuugucauggauggaggguaucuggaucaacccgacaacug\n",
      "uccagagagagucacugaccucaugcgcaugugcuggcaauucaaccccaagaugaggccaaccuuccuggagauuguca\n",
      "accugcucaaggacgaccugcaccccagcuuuccagaggugucguucuuccacagcgaggagaacaaggcucccgagagu\n",
      "gaggagcuggagauggaguuugaggacauggagaaugugccccuggaccguuccucgcacugucagagggaggaggcggg\n",
      "gggccgggauggaggguccucgcuggguuucaagcggagcuacgaggaacacaucccuuacacacacaugaacggaggca\n",
      "agaaaaacgggcggauucugaccuugccucgguccaauccuuccuaacagugccuaccguggcgggggcgggcagggguu\n",
      "cccauuuucgcuuuccucugguuugaaagccucuggaaaacucaggauucucacgacucuaccauguccaguggaguuca\n",
      "gagaucguuccuauacauuucuguucaucuuaagguggacucguuugguuaccaauuuaacuaguccugcagaggauuua\n",
      "acugugaaccuggagggcaagggguuuccacaguugcugcuccuuuggggcaacgacgguuucaaaccaggauuuugugu\n",
      "uuuuucguuccccccacccgcccccagcagauggaaagaaagcaccuguuuuuacaaauucuuuuuuuuuuuuuuuuuuu\n",
      "uuuuuuuuugcuggugucugagcuucaguauaaaagacaaaacuuccuguuuguggaacaaaauuucgaaagaaaaaacc\n",
      "aaa\n"
     ]
    }
   ],
   "source": [
    "print(nucleotide_sequence_fasta)"
   ]
  },
  {
   "cell_type": "markdown",
   "metadata": {},
   "source": [
    "### Produzione della sequenza della proteina in formato FASTA"
   ]
  },
  {
   "cell_type": "markdown",
   "metadata": {},
   "source": [
    "Estrarre nella variabile `protein_prefix` il prefisso della proteina contenuto nel *record* contenente la parola `/translation`:\n",
    "\n",
    "    FT                   /translation=\"MGTGGRRGAAAAPLLVAVAALLLGAAGHLYPGEVCPGMDIRNNLT"
   ]
  },
  {
   "cell_type": "code",
   "execution_count": 19,
   "metadata": {},
   "outputs": [],
   "source": []
  },
  {
   "cell_type": "code",
   "execution_count": 21,
   "metadata": {},
   "outputs": [
    {
     "data": {
      "text/plain": [
       "'MGTGGRRGAAAAPLLVAVAALLLGAAGHLYPGEVCPGMDIRNNLT'"
      ]
     },
     "execution_count": 21,
     "metadata": {},
     "output_type": "execute_result"
    }
   ],
   "source": [
    "protein_prefix"
   ]
  },
  {
   "cell_type": "markdown",
   "metadata": {},
   "source": [
    "Estrarre nella lista `protein_row_list` gli altri *record* (compreso l'ultimo) che contengono la sequenza della proteina.\n",
    "\n",
    "    FT                   RLHELENCSVIEGHLQILLMFKTRPEDFRDLSFPKLIMITDYLLLFRVYGLESLKDLFP\n",
    "    \n",
    "Attenzione all'ultimo:\n",
    "\n",
    "    FT                   DGGSSLGFKRSYEEHIPYTHMNGGKKNGRILTLPRSNPS\"\n"
   ]
  },
  {
   "cell_type": "code",
   "execution_count": 23,
   "metadata": {},
   "outputs": [],
   "source": []
  },
  {
   "cell_type": "code",
   "execution_count": 24,
   "metadata": {},
   "outputs": [
    {
     "data": {
      "text/plain": [
       "['RLHELENCSVIEGHLQILLMFKTRPEDFRDLSFPKLIMITDYLLLFRVYGLESLKDLFP',\n",
       " 'NLTVIRGSRLFFNYALVIFEMVHLKELGLYNLMNITRGSVRIEKNNELCYLATIDWSRI',\n",
       " 'LDSVEDNHIVLNKDDNEECGDICPGTAKGKTNCPATVINGQFVERCWTHSHCQKVCPTI',\n",
       " 'CKSHGCTAEGLCCHSECLGNCSQPDDPTKCVACRNFYLDGRCVETCPPPYYHFQDWRCV',\n",
       " 'NFSFCQDLHHKCKNSRRQGCHQYVIHNNKCIPECPSGYTMNSSNLLCTPCLGPCPKVCH',\n",
       " 'LLEGEKTIDSVTSAQELRGCTVINGSLIINIRGGNNLAAELEANLGLIEEISGYLKIRR',\n",
       " 'SYALVSLSFFRKLRLIRGETLEIGNYSFYALDNQNLRQLWDWSKHNLTTTQGKLFFHYN',\n",
       " 'PKLCLSEIHKMEEVSGTKGRQERNDIALKTNGDKASCENELLKFSYIRTSFDKILLRWE',\n",
       " 'PYWPPDFRDLLGFMLFYKEAPYQNVTEFDGQDACGSNSWTVVDIDPPLRSNDPKSQNHP',\n",
       " 'GWLMRGLKPWTQYAIFVKTLVTFSDERRTYGAKSDIIYVQTDATNPSVPLDPISVSNSS',\n",
       " 'SQIILKWKPPSDPNGNITHYLVFWERQAEDSELFELDYCLKGLKLPSRTWSPPFESEDS',\n",
       " 'QKHNQSEYEDSAGECCSCPKTDSQILKELEESSFRKTFEDYLHNVVFVPRKTSSGTGAE',\n",
       " 'DPRPSRKRRSLGDVGNVTVAVPTVAAFPNTSSTSVPTSPEEHRPFEKVVNKESLVISGL',\n",
       " 'RHFTGYRIELQACNQDTPEERCSVAAYVSARTMPEAKADDIVGPVTHEIFENNVVHLMW',\n",
       " 'QEPKEPNGLIVLYEVSYRRYGDEELHLCVSRKHFALERGCRLRGLSPGNYSVRIRATSL',\n",
       " 'AGNGSWTEPTYFYVTDYLDVPSNIAKIIIGPLIFVFLFSVVIGSIYLFLRKRQPDGPLG',\n",
       " 'PLYASSNPEYLSASDVFPCSVYVPDEWEVSREKITLLRELGQGSFGMVYEGNARDIIKG',\n",
       " 'EAETRVAVKTVNESASLRERIEFLNEASVMKGFTCHHVVRLLGVVSKGQPTLVVMELMA',\n",
       " 'HGDLKSYLRSLRPEAENNPGRPPPTLQEMIQMAAEIADGMAYLNAKKFVHRDLAARNCM',\n",
       " 'VAHDFTVKIGDFGMTRDIYETDYYRKGGKGLLPVRWMAPESLKDGVFTTSSDMWSFGVV',\n",
       " 'LWEITSLAEQPYQGLSNEQVLKFVMDGGYLDQPDNCPERVTDLMRMCWQFNPKMRPTFL',\n",
       " 'EIVNLLKDDLHPSFPEVSFFHSEENKAPESEELEMEFEDMENVPLDRSSHCQREEAGGR',\n",
       " 'DGGSSLGFKRSYEEHIPYTHMNGGKKNGRILTLPRSNPS']"
      ]
     },
     "execution_count": 24,
     "metadata": {},
     "output_type": "execute_result"
    }
   ],
   "source": [
    "protein_row_list"
   ]
  },
  {
   "cell_type": "markdown",
   "metadata": {},
   "source": [
    "Aggiungere alla lista il prefisso trovato prima e concatenare nella variabile `protein_sequence` tutti i blocchi della lista `protein_row_list` per ottenere la sequenza della proteina."
   ]
  },
  {
   "cell_type": "code",
   "execution_count": 27,
   "metadata": {},
   "outputs": [],
   "source": []
  },
  {
   "cell_type": "code",
   "execution_count": 28,
   "metadata": {},
   "outputs": [
    {
     "data": {
      "text/plain": [
       "'MGTGGRRGAAAAPLLVAVAALLLGAAGHLYPGEVCPGMDIRNNLTMGTGGRRGAAAAPLLVAVAALLLGAAGHLYPGEVCPGMDIRNNLTRLHELENCSVIEGHLQILLMFKTRPEDFRDLSFPKLIMITDYLLLFRVYGLESLKDLFPNLTVIRGSRLFFNYALVIFEMVHLKELGLYNLMNITRGSVRIEKNNELCYLATIDWSRILDSVEDNHIVLNKDDNEECGDICPGTAKGKTNCPATVINGQFVERCWTHSHCQKVCPTICKSHGCTAEGLCCHSECLGNCSQPDDPTKCVACRNFYLDGRCVETCPPPYYHFQDWRCVNFSFCQDLHHKCKNSRRQGCHQYVIHNNKCIPECPSGYTMNSSNLLCTPCLGPCPKVCHLLEGEKTIDSVTSAQELRGCTVINGSLIINIRGGNNLAAELEANLGLIEEISGYLKIRRSYALVSLSFFRKLRLIRGETLEIGNYSFYALDNQNLRQLWDWSKHNLTTTQGKLFFHYNPKLCLSEIHKMEEVSGTKGRQERNDIALKTNGDKASCENELLKFSYIRTSFDKILLRWEPYWPPDFRDLLGFMLFYKEAPYQNVTEFDGQDACGSNSWTVVDIDPPLRSNDPKSQNHPGWLMRGLKPWTQYAIFVKTLVTFSDERRTYGAKSDIIYVQTDATNPSVPLDPISVSNSSSQIILKWKPPSDPNGNITHYLVFWERQAEDSELFELDYCLKGLKLPSRTWSPPFESEDSQKHNQSEYEDSAGECCSCPKTDSQILKELEESSFRKTFEDYLHNVVFVPRKTSSGTGAEDPRPSRKRRSLGDVGNVTVAVPTVAAFPNTSSTSVPTSPEEHRPFEKVVNKESLVISGLRHFTGYRIELQACNQDTPEERCSVAAYVSARTMPEAKADDIVGPVTHEIFENNVVHLMWQEPKEPNGLIVLYEVSYRRYGDEELHLCVSRKHFALERGCRLRGLSPGNYSVRIRATSLAGNGSWTEPTYFYVTDYLDVPSNIAKIIIGPLIFVFLFSVVIGSIYLFLRKRQPDGPLGPLYASSNPEYLSASDVFPCSVYVPDEWEVSREKITLLRELGQGSFGMVYEGNARDIIKGEAETRVAVKTVNESASLRERIEFLNEASVMKGFTCHHVVRLLGVVSKGQPTLVVMELMAHGDLKSYLRSLRPEAENNPGRPPPTLQEMIQMAAEIADGMAYLNAKKFVHRDLAARNCMVAHDFTVKIGDFGMTRDIYETDYYRKGGKGLLPVRWMAPESLKDGVFTTSSDMWSFGVVLWEITSLAEQPYQGLSNEQVLKFVMDGGYLDQPDNCPERVTDLMRMCWQFNPKMRPTFLEIVNLLKDDLHPSFPEVSFFHSEENKAPESEELEMEFEDMENVPLDRSSHCQREEAGGRDGGSSLGFKRSYEEHIPYTHMNGGKKNGRILTLPRSNPS'"
      ]
     },
     "execution_count": 28,
     "metadata": {},
     "output_type": "execute_result"
    }
   ],
   "source": [
    "protein_sequence"
   ]
  },
  {
   "cell_type": "markdown",
   "metadata": {},
   "source": [
    "Produrre nella variabile `protein_sequence_fasta` la sequenza della proteina in formato FASTA con il seguente *header*:\n",
    "\n",
    "    >M10051-HUM; len = 1427"
   ]
  },
  {
   "cell_type": "code",
   "execution_count": 29,
   "metadata": {},
   "outputs": [],
   "source": []
  },
  {
   "cell_type": "code",
   "execution_count": 30,
   "metadata": {},
   "outputs": [
    {
     "name": "stdout",
     "output_type": "stream",
     "text": [
      ">M10051-HUM; len = 1427\n",
      "MGTGGRRGAAAAPLLVAVAALLLGAAGHLYPGEVCPGMDIRNNLTMGTGGRRGAAAAPLLVAVAALLLGAAGHLYPGEVC\n",
      "PGMDIRNNLTRLHELENCSVIEGHLQILLMFKTRPEDFRDLSFPKLIMITDYLLLFRVYGLESLKDLFPNLTVIRGSRLF\n",
      "FNYALVIFEMVHLKELGLYNLMNITRGSVRIEKNNELCYLATIDWSRILDSVEDNHIVLNKDDNEECGDICPGTAKGKTN\n",
      "CPATVINGQFVERCWTHSHCQKVCPTICKSHGCTAEGLCCHSECLGNCSQPDDPTKCVACRNFYLDGRCVETCPPPYYHF\n",
      "QDWRCVNFSFCQDLHHKCKNSRRQGCHQYVIHNNKCIPECPSGYTMNSSNLLCTPCLGPCPKVCHLLEGEKTIDSVTSAQ\n",
      "ELRGCTVINGSLIINIRGGNNLAAELEANLGLIEEISGYLKIRRSYALVSLSFFRKLRLIRGETLEIGNYSFYALDNQNL\n",
      "RQLWDWSKHNLTTTQGKLFFHYNPKLCLSEIHKMEEVSGTKGRQERNDIALKTNGDKASCENELLKFSYIRTSFDKILLR\n",
      "WEPYWPPDFRDLLGFMLFYKEAPYQNVTEFDGQDACGSNSWTVVDIDPPLRSNDPKSQNHPGWLMRGLKPWTQYAIFVKT\n",
      "LVTFSDERRTYGAKSDIIYVQTDATNPSVPLDPISVSNSSSQIILKWKPPSDPNGNITHYLVFWERQAEDSELFELDYCL\n",
      "KGLKLPSRTWSPPFESEDSQKHNQSEYEDSAGECCSCPKTDSQILKELEESSFRKTFEDYLHNVVFVPRKTSSGTGAEDP\n",
      "RPSRKRRSLGDVGNVTVAVPTVAAFPNTSSTSVPTSPEEHRPFEKVVNKESLVISGLRHFTGYRIELQACNQDTPEERCS\n",
      "VAAYVSARTMPEAKADDIVGPVTHEIFENNVVHLMWQEPKEPNGLIVLYEVSYRRYGDEELHLCVSRKHFALERGCRLRG\n",
      "LSPGNYSVRIRATSLAGNGSWTEPTYFYVTDYLDVPSNIAKIIIGPLIFVFLFSVVIGSIYLFLRKRQPDGPLGPLYASS\n",
      "NPEYLSASDVFPCSVYVPDEWEVSREKITLLRELGQGSFGMVYEGNARDIIKGEAETRVAVKTVNESASLRERIEFLNEA\n",
      "SVMKGFTCHHVVRLLGVVSKGQPTLVVMELMAHGDLKSYLRSLRPEAENNPGRPPPTLQEMIQMAAEIADGMAYLNAKKF\n",
      "VHRDLAARNCMVAHDFTVKIGDFGMTRDIYETDYYRKGGKGLLPVRWMAPESLKDGVFTTSSDMWSFGVVLWEITSLAEQ\n",
      "PYQGLSNEQVLKFVMDGGYLDQPDNCPERVTDLMRMCWQFNPKMRPTFLEIVNLLKDDLHPSFPEVSFFHSEENKAPESE\n",
      "ELEMEFEDMENVPLDRSSHCQREEAGGRDGGSSLGFKRSYEEHIPYTHMNGGKKNGRILTLPRSNPS\n"
     ]
    }
   ],
   "source": [
    "print(protein_sequence_fasta)"
   ]
  }
 ],
 "metadata": {
  "kernelspec": {
   "display_name": "Python 3",
   "language": "python",
   "name": "python3"
  },
  "language_info": {
   "codemirror_mode": {
    "name": "ipython",
    "version": 3
   },
   "file_extension": ".py",
   "mimetype": "text/x-python",
   "name": "python",
   "nbconvert_exporter": "python",
   "pygments_lexer": "ipython3",
   "version": "3.7.1"
  }
 },
 "nbformat": 4,
 "nbformat_minor": 2
}
