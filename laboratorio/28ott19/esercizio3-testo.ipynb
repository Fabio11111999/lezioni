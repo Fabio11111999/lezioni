{
 "cells": [
  {
   "cell_type": "markdown",
   "metadata": {},
   "source": [
    "# Esercizio 3\n",
    "\n",
    "EMBL (http://www.ebi.ac.uk/cgi-bin/sva/sva.pl/) è una banca di sequenze nucleotidiche sviluppata da EMBL-EBI (European Bioinformatics Institute, European Molecular Biology Laboratory), in cui ogni sequenza nucleotidica viene memorizzata, con altre informazioni, in file di testo (*entry* EMBL) in un formato che prende il nome di formato EMBL.\n",
    "\n",
    "**Il formato EMBL** è composto da *record* che iniziano con un codice a due lettere maisucole che specifica il contenuto del *record*. I soli *record* che non iniziano con il codice a due lettere sono quelli contenenti la sequenza nucleotidica.\n",
    "\n",
    "Dato un file in formato EMBL, contenente la sequenza nucleotidica (sequenza di basi) di un mRNA (trascritto espresso da un gene), produrre:\n",
    "\n",
    "- la sequenza nucleotidica in formato FASTA\n",
    "- la sequenza della proteina espressa dal gene in formato FASTA\n",
    "\n",
    "***\n",
    "\n",
    "Parametri in input:\n",
    "\n",
    "- nome del file in formato EMBL\n",
    "\n",
    "***\n",
    "\n",
    "Dove trovare le informazioni che servono per risolvere l'esercizio:\n",
    "\n",
    "- Il record che inizia con ID\n",
    " \n",
    "       ID   M10051; SV 1; linear; mRNA; STD; HUM; 4723 BP.\n",
    "\n",
    "contiene l'identificatore univoco della sequenza (M10051) e l'organismo (HUM). Il fatto che il file si riferisca alla sequenza nucleotidica di un gene è indicato dalla presenza della parola `mRNA`.\n",
    "\n",
    "- L'insieme dei record che iniziano con FT sono quelli che contengono le *features* della sequenza nucleotidica. In particolare tutti i record della sezione:\n",
    "\n",
    "       FT                   /translation=\"MGTGGRRGAAAAPLLVAVAALLLGAAGHLYPGEVCPGMDIRNNLT\n",
    "       FT                   RLHELENCSVIEGHLQILLMFKTRPEDFRDLSFPKLIMITDYLLLFRVYGLESLKDLFP\n",
    "       FT                   NLTVIRGSRLFFNYALVIFEMVHLKELGLYNLMNITRGSVRIEKNNELCYLATIDWSRI\n",
    "       FT                   LDSVEDNHIVLNKDDNEECGDICPGTAKGKTNCPATVINGQFVERCWTHSHCQKVCPTI\n",
    "       FT                   [...]\n",
    "       FT                   DGGSSLGFKRSYEEHIPYTHMNGGKKNGRILTLPRSNPS\"\n",
    "        \n",
    "contengono la sequenza della proteina espressa dal gene.\n",
    "\n",
    "- Il record che inizia con SQ:\n",
    "\n",
    "        SQ   Sequence 4723 BP; 1068 A; 1298 C; 1311 G; 1046 T; 0 other;\n",
    "        \n",
    "introduce la sezione della sequenza nucleotidica che termina con il record `//` (file del file). Ogni *record* contenente la sequenza nucleotidica inizia con una serie di spazi iniziali, e contiene un *chunk* di sequenza lungo 60 basi. L'intero alla fine del *record* fornisce la lunghezza totale dei *chunks* fino a tale *record*. Ogni *chunk* in un *record* viene poi separato in *chunks* più piccoli di 10 basi.\n",
    "\n",
    "    SQ   Sequence 4723 BP; 1068 A; 1298 C; 1311 G; 1046 T; 0 other;\n",
    "         ggggggctgc gcggccgggt cggtgcgcac acgagaagga cgcgcggccc ccagcgctct        60\n",
    "         tgggggccgc ctcggagcat gacccccgcg ggccagcgcc gcgcgcctga tccgaggaga       120\n",
    "         ccccgcgctc ccgcagccat gggcaccggg ggccggcggg gggcggcggc cgcgccgctg       180\n",
    "         ctggtggcgg tggccgcgct gctactgggc gccgcgggcc acctgtaccc cggagaggtg       240\n",
    "         tgtcccggca tggatatccg gaacaacctc actaggttgc atgagctgga gaattgctct       300\n",
    "         gtcatcgaag gacacttgca gatactcttg atgttcaaaa cgaggcccga agatttccga       360\n",
    "         gacctcagtt tccccaaact catcatgatc actgattact tgctgctctt ccgggtctat       420\n",
    "         gggctcgaga gcctgaagga cctgttcccc aacctcacgg tcatccgggg atcacgactg       480\n",
    "         [...]\n",
    "         tttttcgttc cccccacccg cccccagcag atggaaagaa agcacctgtt tttacaaatt      4620\n",
    "         cttttttttt tttttttttt tttttttttg ctggtgtctg agcttcagta taaaagacaa      4680\n",
    "         aacttcctgt ttgtggaaca aaatttcgaa agaaaaaacc aaa                        4723\n",
    "    //\n",
    "    \n",
    "**NOTA BENE**:\n",
    "- l'alfabeto degli amminoacidi è {ACDEFGHIKLMNPQRSTVWY}\n",
    "- la sequenza nucleotidica riportata nell'*entry EMBL* è su alfabeto {a,c,g,t} nonostante rappresenti la sequenza primaria di un mRNA. Per ottenere la sequenza su alfabeto {a,c,g,u} basta operare una sostituzione di tutti i simboli `t` con simboli `u`.\n",
    "\n",
    "***\n",
    "\n",
    "Requisiti:\n",
    "\n",
    "- nell’*header* della sequenza nucleotidica in formato FASTA devono comparire l’identificatore univoco della sequenza e l’organismo a cui si riferisce, nel seguente formato:\n",
    "\n",
    "        >M10051-HUM\n",
    "        \n",
    "- la sequenza nucleotidica deve essere prodotta su alfabeto {a,c,g,u}\n",
    "        \n",
    "- nell’*header* della sequenza della proteina in formato FASTA devono comparire l’identificatore univoco della sequenza, l’organismo e la lunghezza della proteina, nel seguente formato:\n",
    "\n",
    "        >M10051-HUM; len = 1337\n",
    "        \n",
    "- le sequenze in formato FASTA devono essere prodotte in righe di 80 caratteri\n",
    "\n",
    "- deve essere definita una funzione `format_fasta()` che prenda come argomenti un'intestazione FASTA, una sequenza nucleotidica/proteica, e restituisca la sequenza in formato FASTA con la sequenza separata in righe di 80 caratteri.\n",
    "\n",
    "- usare solo espressioni regolari per estrarre le informazioni\n",
    "\n",
    "***\n",
    "\n",
    "Variabili di output:\n",
    "- `nucleotide_sequence_fasta`: sequenza nucleotidica in formato FASTA\n",
    "- `protein_sequence_fasta`: sequenza della proteina in formato FASTA"
   ]
  },
  {
   "cell_type": "markdown",
   "metadata": {},
   "source": [
    "***"
   ]
  },
  {
   "cell_type": "markdown",
   "metadata": {},
   "source": [
    "### Come leggere un file in input in un'unica stringa\n",
    "\n",
    "Lo *statement*\n",
    "\n",
    "    with open(input_file_name, ’r’) as input_file:\n",
    "        file_str = input_file.read()\n",
    "        \n",
    "permette di ottenere l'*handle* in lettura `input_file` al file `input_file` e di ottenere il suo contenuto nell'unica stringa `file_str`. Al termine l'*handle* viene chiuso e lo script può processare la stringa `file_str`."
   ]
  },
  {
   "cell_type": "markdown",
   "metadata": {},
   "source": [
    "### Operazioni di *searching* in stringhe contenenti il simbolo `\\n`\n",
    "\n",
    "Invocando `re.search()` con un terzo argomento uguale al flag `re.M`\n",
    "\n",
    "    re.search(my_expr, my_string, re.M)\n",
    "        \n",
    "si forza a interpretare su più righe la stringa `my_string`. "
   ]
  },
  {
   "cell_type": "markdown",
   "metadata": {},
   "source": [
    "### Funzioni/Metodi suggeriti"
   ]
  },
  {
   "cell_type": "markdown",
   "metadata": {},
   "source": [
    "- Il metodo `join()` degli oggetti di tipo `str` restituisce la concatenazione degli elementi della lista passata come argomento usando la stringa invocante come separatore."
   ]
  },
  {
   "cell_type": "code",
   "execution_count": 5,
   "metadata": {},
   "outputs": [
    {
     "data": {
      "text/plain": [
       "'aa+aa+aa'"
      ]
     },
     "execution_count": 5,
     "metadata": {},
     "output_type": "execute_result"
    }
   ],
   "source": [
    "'+'.join(['aa','aa','aa'])"
   ]
  }
 ],
 "metadata": {
  "kernelspec": {
   "display_name": "Python 3",
   "language": "python",
   "name": "python3"
  },
  "language_info": {
   "codemirror_mode": {
    "name": "ipython",
    "version": 3
   },
   "file_extension": ".py",
   "mimetype": "text/x-python",
   "name": "python",
   "nbconvert_exporter": "python",
   "pygments_lexer": "ipython3",
   "version": "3.7.1"
  }
 },
 "nbformat": 4,
 "nbformat_minor": 2
}
