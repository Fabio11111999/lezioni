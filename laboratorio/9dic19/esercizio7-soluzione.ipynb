{
 "cells": [
  {
   "cell_type": "markdown",
   "metadata": {},
   "source": [
    "# Esercizio 7\n",
    "\n",
    "Dato un file in formato FASTQ, che memorizza reads NGS e la qualità di ognuna delle loro basi, tenere solo i reads che hanno una percentuale almeno P di basi con qualità almeno Q, effettuarne il *trimming* e produrre in output in formato FASTQ solo i read per cui la porzione rimasta è lunga almeno L.\n",
    "\n",
    "Il *trimming* di un read consiste nel trovare la più lunga sottostringa (o una delle più lunghe) le cui basi abbiano tutte una qualità pari ad almeno Q.\n",
    "\n",
    "***\n",
    "\n",
    "Parametri in input:\n",
    "\n",
    "- nome del file in formato FASTQ\n",
    "- soglia minima di qualità\n",
    "- percentuale minima (compresa tra 0 e 1) delle basi con qualità almeno Q\n",
    "- lunghezza minima dopo il *trimming*\n",
    "\n",
    "***\n",
    "\n",
    "Requisiti:\n",
    "- deve essere definita la funzione `ascii_to_quality()` che prenda come argomento un carattere ASCII e restituisca il corrispondente Phred Value.\n",
    "- deve essere definita la funzione `get_quality_percentage()` che prenda in input una stringa di qualità (cioé una stringa di caratteri ASCII che codificano Phred Values) e una soglia minima, e restituisca la percentuale di caratteri che codificano una qualità pari ad almeno la soglia minima.\n",
    "- deve essere definita la funzione `get_trimming_interval()` che prenda in input una stringa di qualità e una soglia minima, e restituisca il più lungo intervallo di posizioni (o uno dei più lunghi) contenente solo caratteri che codificano qualità almeno pari alla soglia minima.\n",
    "- deve essere definita la funzione `get_trimmed_read()` che prenda in input una soglia minima di qualità e la lista delle quattro stringhe di un read in formato FASTQ (header della sequenza del read, sequenza del read, header della stringa di qualità, stringa di qualità). La funzione deve effettuare il *trimming*, cioé deve trovare la più lunga sottostringa (o una delle più lunghe) del read le cui basi abbiano una qualità pari ad almeno la soglia minima, e restituire la lista delle quattro stringhe del formato FASTQ del read dopo avere effettuato il *trimming*. La funzione deve chiamare `get_trimming_interval()`.\n",
    "Ad esempio per una soglia minima di qualità pari a 58 e per il read seguente:\n",
    "\n",
    "        @HWUSI-EAS522:8:5:662:692#0/1\n",
    "        TATGGAGGCCCAACTTCTTGTATTCACAGGTTCTGC\n",
    "        +HWUSI-EAS522:8:5:662:692#0/1\n",
    "        aaaa`aa`aa`]__`aa`_U[_a`^\\\\UTWZ`X^QX\n",
    "il *trimming* produce:\n",
    "\n",
    "        @HWUSI-EAS522:8:5:662:692#0/1\n",
    "        TATGGAGGCCCAACTTCTT\n",
    "        +HWUSI-EAS522:8:5:662:692#0/1,\n",
    "        aaaa`aa`aa`]__`aa`_\n",
    "che in questo particolare caso corrisponde a tenere un prefisso del read.\n",
    "\n",
    "***\n",
    "\n",
    "Variabili di output:\n",
    "- `output_list`, lista dei reads di output in formato FASTQ. Ogni elemento della lista è una lista annidata contenente le quattro righe del formato FASTQ di un read."
   ]
  },
  {
   "cell_type": "markdown",
   "metadata": {},
   "source": [
    "***"
   ]
  },
  {
   "cell_type": "markdown",
   "metadata": {},
   "source": [
    "## Soluzione"
   ]
  },
  {
   "cell_type": "markdown",
   "metadata": {},
   "source": [
    "### Parametri in input"
   ]
  },
  {
   "cell_type": "code",
   "execution_count": 1,
   "metadata": {},
   "outputs": [],
   "source": [
    "fastq_file_name = './input.fq'\n",
    "quality_threshold = 58\n",
    "min_percentage = 0.7\n",
    "min_length = 20"
   ]
  },
  {
   "cell_type": "markdown",
   "metadata": {},
   "source": [
    "### Definizione della funzione `ascii_to_quality()`"
   ]
  },
  {
   "cell_type": "code",
   "execution_count": 31,
   "metadata": {},
   "outputs": [],
   "source": [
    "def ascii_to_quality(c):\n",
    "    return ord(c)-33"
   ]
  },
  {
   "cell_type": "markdown",
   "metadata": {},
   "source": [
    "### Definizione della funzione `get_quality_percentage()`"
   ]
  },
  {
   "cell_type": "code",
   "execution_count": 33,
   "metadata": {},
   "outputs": [],
   "source": [
    "def get_quality_percentage(quality_string, quality_threshold):\n",
    "    return float(len([c for c in quality_string if ascii_to_quality(c) >= quality_threshold]))/len(quality_string)"
   ]
  },
  {
   "cell_type": "markdown",
   "metadata": {},
   "source": [
    "**NOTA BENE**: supporre che il carattere `\\n` sia già stato rimosso dalla fine della stringa `quality_string` passata come argomento."
   ]
  },
  {
   "cell_type": "markdown",
   "metadata": {},
   "source": [
    "---"
   ]
  },
  {
   "cell_type": "markdown",
   "metadata": {},
   "source": [
    "### Definizione della funzione `get_trimming_interval()`"
   ]
  },
  {
   "cell_type": "code",
   "execution_count": 58,
   "metadata": {},
   "outputs": [],
   "source": [
    "def get_trimming_interval(quality_string, quality_threshold):\n",
    "    bool_list = [(ascii_to_quality(c) >= quality_threshold) for c in quality_string]\n",
    "    \n",
    "    start_list = [i for i in range(len(bool_list))[1:] if bool_list[i] == True and bool_list[i-1] == False]\n",
    "    if bool_list[0] == True:\n",
    "        start_list[:0] = [0]\n",
    "        \n",
    "    start_list[:0] = [1]\n",
    "    \n",
    "    end_list = [j for j in range(len(bool_list))[:-1] if bool_list[j] == True and bool_list[j+1] == False]\n",
    "    if bool_list[-1] == True:\n",
    "        end_list[len(end_list):] = [len(bool_list)-1]\n",
    "        \n",
    "    end_list[:0] = [0]\n",
    "    \n",
    "    interval_lengths = [end_list[p]-start_list[p]+1 for p in range(len(start_list))]\n",
    "    \n",
    "    max_value_index = interval_lengths.index(max(interval_lengths))\n",
    "    start_interval = start_list[max_value_index]\n",
    "    end_interval = end_list[max_value_index]\n",
    "    \n",
    "    return [start_interval, end_interval+1]"
   ]
  },
  {
   "cell_type": "markdown",
   "metadata": {},
   "source": [
    "**NOTA BENE**: supporre che il carattere `\\n` sia già stato rimosso dalla fine della stringa `quality_string` passata come argomento."
   ]
  },
  {
   "cell_type": "markdown",
   "metadata": {},
   "source": [
    "#### Spiegazione della funzione `get_trimming_interval()`\n",
    "\n",
    "Si supponga che i due argomenti della funzione siano:"
   ]
  },
  {
   "cell_type": "code",
   "execution_count": 34,
   "metadata": {},
   "outputs": [],
   "source": [
    "quality_string = 'aaaa`aa`aa`]__`aa`_U[_a`^\\\\\\\\UTWZ`X^QX'\n",
    "quality_threshold = 58"
   ]
  },
  {
   "cell_type": "markdown",
   "metadata": {},
   "source": [
    "**NOTA BENE**: il letterale `\\\\` rappresenta il *backslash*.\n",
    "\n",
    "Costruire la lista `bool_list` di valori di tipo `bool` lunga come la stringa di qualità, tale per cui il valore i-esimo è `True` se il carattere i-esimo della stringa di qualità codifica un Phred Value almeno pari alla soglia di qualità passata come secondo argomento."
   ]
  },
  {
   "cell_type": "code",
   "execution_count": 37,
   "metadata": {},
   "outputs": [],
   "source": [
    "bool_list = [(ascii_to_quality(c) >= quality_threshold) for c in quality_string]"
   ]
  },
  {
   "cell_type": "code",
   "execution_count": 38,
   "metadata": {},
   "outputs": [
    {
     "data": {
      "text/plain": [
       "[True,\n",
       " True,\n",
       " True,\n",
       " True,\n",
       " True,\n",
       " True,\n",
       " True,\n",
       " True,\n",
       " True,\n",
       " True,\n",
       " True,\n",
       " True,\n",
       " True,\n",
       " True,\n",
       " True,\n",
       " True,\n",
       " True,\n",
       " True,\n",
       " True,\n",
       " False,\n",
       " True,\n",
       " True,\n",
       " True,\n",
       " True,\n",
       " True,\n",
       " True,\n",
       " True,\n",
       " False,\n",
       " False,\n",
       " False,\n",
       " False,\n",
       " True,\n",
       " False,\n",
       " True,\n",
       " False,\n",
       " False]"
      ]
     },
     "execution_count": 38,
     "metadata": {},
     "output_type": "execute_result"
    }
   ],
   "source": [
    "bool_list"
   ]
  },
  {
   "cell_type": "markdown",
   "metadata": {},
   "source": [
    "Basterà quindi che la funzione trovi e restituisca il più lungo intervallo di posizioni (o uno dei più lunghi) di `bool_list` che contiene solo valori `True`.\n",
    "    \n",
    "Costruire a questo punto la lista `start_list` delle posizioni di inizio di un intervallo di valori `True`, cioé la prima posizione `i=0` se contiene un valore `True`, e le posizioni `i > 0` tali per cui `bool_list[i]` è uguale a `True` e `bool_list[i-1]` è uguale a `False`."
   ]
  },
  {
   "cell_type": "code",
   "execution_count": 41,
   "metadata": {},
   "outputs": [],
   "source": [
    "start_list = [i for i in range(len(bool_list))[1:] if bool_list[i] == True and bool_list[i-1] == False]\n",
    "if bool_list[0] == True:\n",
    "    start_list[:0] = [0]"
   ]
  },
  {
   "cell_type": "code",
   "execution_count": 42,
   "metadata": {},
   "outputs": [
    {
     "data": {
      "text/plain": [
       "[0, 20, 31, 33]"
      ]
     },
     "execution_count": 42,
     "metadata": {},
     "output_type": "execute_result"
    }
   ],
   "source": [
    "start_list"
   ]
  },
  {
   "cell_type": "markdown",
   "metadata": {},
   "source": [
    "Aggiunta all'inizio della lista di una *fake position* pari a 1 (per gestire il caso in cui tutti i valori in `bool_list` sono uguali a `False`, cioé il caso in cui tutti i valori di qualità sono al di sotto della soglia minima)."
   ]
  },
  {
   "cell_type": "code",
   "execution_count": 43,
   "metadata": {},
   "outputs": [],
   "source": [
    "start_list[:0] = [1]"
   ]
  },
  {
   "cell_type": "code",
   "execution_count": 44,
   "metadata": {},
   "outputs": [
    {
     "data": {
      "text/plain": [
       "[1, 0, 20, 31, 33]"
      ]
     },
     "execution_count": 44,
     "metadata": {},
     "output_type": "execute_result"
    }
   ],
   "source": [
    "start_list"
   ]
  },
  {
   "cell_type": "markdown",
   "metadata": {},
   "source": [
    "Costruire in modo analogo la lista `end_list` delle posizioni di fine di un intervallo di valori `True`, cioé le posizioni `j < len(bool_list)-1` tali per cui `bool_list[j]` è uguale a `True` e `bool_list[j+1]` è uguale a `False`, e l'ultima posizione `j=len(bool_list)-1` se contiene un valore `True`."
   ]
  },
  {
   "cell_type": "code",
   "execution_count": 45,
   "metadata": {},
   "outputs": [],
   "source": [
    "end_list = [j for j in range(len(bool_list))[:-1] if bool_list[j] == True and bool_list[j+1] == False]\n",
    "if bool_list[-1] == True:\n",
    "    end_list[len(end_list):] = [len(bool_list)-1]"
   ]
  },
  {
   "cell_type": "code",
   "execution_count": 46,
   "metadata": {},
   "outputs": [
    {
     "data": {
      "text/plain": [
       "[18, 26, 31, 33]"
      ]
     },
     "execution_count": 46,
     "metadata": {},
     "output_type": "execute_result"
    }
   ],
   "source": [
    "end_list"
   ]
  },
  {
   "cell_type": "markdown",
   "metadata": {},
   "source": [
    "Aggiunta all'inizio della lista di una *fake position* pari a 0 (per gestire il caso in cui tutti i valori in `bool_list` sono uguali a `False`, cioé il caso in cui tutti i valori di qualità sono al di sotto della soglia minima)."
   ]
  },
  {
   "cell_type": "code",
   "execution_count": 47,
   "metadata": {},
   "outputs": [],
   "source": [
    "end_list[:0] = [0]"
   ]
  },
  {
   "cell_type": "code",
   "execution_count": 48,
   "metadata": {},
   "outputs": [
    {
     "data": {
      "text/plain": [
       "[0, 18, 26, 31, 33]"
      ]
     },
     "execution_count": 48,
     "metadata": {},
     "output_type": "execute_result"
    }
   ],
   "source": [
    "end_list"
   ]
  },
  {
   "cell_type": "markdown",
   "metadata": {},
   "source": [
    "**NOTA BENE**: nella stessa posizione p, `start_list[p]` e `end_list[p]` sono le posizioni di inizio e di fine su `bool_list` di un intervallo di soli valori `True`. Per `p=0` si ha che lo start è pari a 1 e l'end è pari a 0, e sono le posizioni di inizio e fine del *fake interval*.\n",
    "\n",
    "A questo punto basta determinare l'intervallo più ampio.\n",
    "\n",
    "Costruire la lista `interval_lengths` delle lunghezze degli intervalli, calcolate come *end*-*start*+1 (il *fake interval* avrà lunghezza pari a 0)."
   ]
  },
  {
   "cell_type": "code",
   "execution_count": 50,
   "metadata": {},
   "outputs": [],
   "source": [
    "interval_lengths = [end_list[p]-start_list[p]+1 for p in range(len(start_list))]"
   ]
  },
  {
   "cell_type": "code",
   "execution_count": 51,
   "metadata": {},
   "outputs": [
    {
     "data": {
      "text/plain": [
       "[0, 19, 7, 1, 1]"
      ]
     },
     "execution_count": 51,
     "metadata": {},
     "output_type": "execute_result"
    }
   ],
   "source": [
    "interval_lengths"
   ]
  },
  {
   "cell_type": "markdown",
   "metadata": {},
   "source": [
    "Estrarre l'inizio e la fine dell'intervallo di lunghezza massima (cioé del *trimming interval*)."
   ]
  },
  {
   "cell_type": "code",
   "execution_count": 55,
   "metadata": {},
   "outputs": [],
   "source": [
    "max_value_index = interval_lengths.index(max(interval_lengths))\n",
    "start_interval = start_list[max_value_index]\n",
    "end_interval = end_list[max_value_index]"
   ]
  },
  {
   "cell_type": "code",
   "execution_count": 56,
   "metadata": {},
   "outputs": [
    {
     "data": {
      "text/plain": [
       "0"
      ]
     },
     "execution_count": 56,
     "metadata": {},
     "output_type": "execute_result"
    }
   ],
   "source": [
    "start_interval"
   ]
  },
  {
   "cell_type": "code",
   "execution_count": 57,
   "metadata": {},
   "outputs": [
    {
     "data": {
      "text/plain": [
       "18"
      ]
     },
     "execution_count": 57,
     "metadata": {},
     "output_type": "execute_result"
    }
   ],
   "source": [
    "end_interval"
   ]
  },
  {
   "cell_type": "markdown",
   "metadata": {},
   "source": [
    "La funzione `get_trimming_interval()` restituisce l'intervallo `[start_interval, end_interval+1]` pronto per effettuare l'operazione di *slicing* sul read e sulla stringa di qualità."
   ]
  },
  {
   "cell_type": "markdown",
   "metadata": {},
   "source": [
    "**NOTA BENE**: se viene restituito il *fake interval* `[1,1]` allora significa che tutti i valori in `bool_list` sono uguali a `False` (cioé nella stringa di qualità tutti i valori sono al di sotto della soglia minima)."
   ]
  },
  {
   "cell_type": "markdown",
   "metadata": {},
   "source": [
    "---"
   ]
  },
  {
   "cell_type": "markdown",
   "metadata": {},
   "source": [
    "### Definizione della funzione `get_trimmed_read()`\n",
    "\n",
    "Il primo argomento della funzione è la soglia minima di qualità, mentre il secondo argomento è la lista delle quattro stringhe del formato FASTQ di un read. Supporre che il carattere `\\n` non sia ancora stato tolto."
   ]
  },
  {
   "cell_type": "code",
   "execution_count": 59,
   "metadata": {},
   "outputs": [],
   "source": [
    "def get_trimmed_read(quality_threshold, fastq_read):\n",
    "    trimming_interval = get_trimming_interval(fastq_read[3].rstrip(), quality_threshold)\n",
    "    trimmed_read_sequence = fastq_read[1].rstrip()[trimming_interval[0]:trimming_interval[1]]\n",
    "    trimmed_quality_string = fastq_read[3].rstrip()[trimming_interval[0]:trimming_interval[1]]\n",
    "    return [fastq_read[0], trimmed_read_sequence+'\\n', fastq_read[2], trimmed_quality_string+'\\n']"
   ]
  },
  {
   "cell_type": "markdown",
   "metadata": {},
   "source": [
    "### Lettura del file in formato FASTQ"
   ]
  },
  {
   "cell_type": "markdown",
   "metadata": {},
   "source": [
    "Lettura delle righe del file FASTQ e memorizzazione nella lista `fastq_file_rows`"
   ]
  },
  {
   "cell_type": "code",
   "execution_count": 20,
   "metadata": {},
   "outputs": [],
   "source": [
    "with open(fastq_file_name, 'r') as fastq_input_file:\n",
    "    fastq_file_rows = fastq_input_file.readlines()"
   ]
  },
  {
   "cell_type": "code",
   "execution_count": 21,
   "metadata": {},
   "outputs": [
    {
     "data": {
      "text/plain": [
       "['@HWUSI-EAS522:8:5:662:692#0/1\\n',\n",
       " 'TATGGAGGCCCAACTTCTTGTATTCACAGGTTCTGC\\n',\n",
       " '+HWUSI-EAS522:8:5:662:692#0/1\\n',\n",
       " 'aaaa`aa`aa`]__`aa`_U[_a`^\\\\\\\\UTWZ`X^QX\\n',\n",
       " '@HWUSI-EAS522:8:5:662:693#0/1\\n',\n",
       " 'TCTGCCAACTTCTTATGGAGGCCTGTATTCACAGGT\\n',\n",
       " '+HWUSI-EAS522:8:5:662:693#0/1\\n',\n",
       " 'Aaaa`aa`aa`]__`:a`_U;_A`^\\\\\\\\UTWZ`X^QX\\n',\n",
       " '@HWUSI-EAS522:8:5:662:694#0/1\\n',\n",
       " 'TCTGCCAGAGGCCTGTATTCACAGGTACTTCTTATG\\n',\n",
       " '+HWUSI-EAS522:8:5:662:694#0/1\\n',\n",
       " 'aaaa`aa`aa`]__`aa`_u[_a`^\\\\\\\\utwz`x^QX\\n',\n",
       " '@HWUSI-EAS522:8:5:662:695#0/1\\n',\n",
       " 'TCGCCTGTATTCACAGGTTGCCAACTTCTTATGGAG\\n',\n",
       " '+HWUSI-EAS522:8:5:662:695#0/1\\n',\n",
       " 'AaaA`aa`aa`]__`:A`_U;_A`^\\\\\\\\UTWZ`X^QX\\n']"
      ]
     },
     "execution_count": 21,
     "metadata": {},
     "output_type": "execute_result"
    }
   ],
   "source": [
    "fastq_file_rows"
   ]
  },
  {
   "cell_type": "markdown",
   "metadata": {},
   "source": [
    "Costruire la lista `read_header_pos` degli indici di posizione (cioé 0, 4, 8, 12, etc.) delle righe di intestazione dei read (quelle che iniziano con il carattere `@`)."
   ]
  },
  {
   "cell_type": "code",
   "execution_count": 61,
   "metadata": {},
   "outputs": [],
   "source": [
    "read_header_pos = [i for i in range(len(fastq_file_rows)) if i % 4 == 0]"
   ]
  },
  {
   "cell_type": "markdown",
   "metadata": {},
   "source": [
    "Usare `read_header_pos` per raggruppare per read le righe della lista `fastq_file_rows` e memorizzare i raggruppamenti (liste delle quattro stringhe del formato FASTQ) nella lista `output_list`."
   ]
  },
  {
   "cell_type": "code",
   "execution_count": 63,
   "metadata": {},
   "outputs": [],
   "source": [
    "output_list = [fastq_file_rows[i:i+4] for i in read_header_pos]"
   ]
  },
  {
   "cell_type": "code",
   "execution_count": 64,
   "metadata": {},
   "outputs": [
    {
     "data": {
      "text/plain": [
       "[['@HWUSI-EAS522:8:5:662:692#0/1\\n',\n",
       "  'TATGGAGGCCCAACTTCTTGTATTCACAGGTTCTGC\\n',\n",
       "  '+HWUSI-EAS522:8:5:662:692#0/1\\n',\n",
       "  'aaaa`aa`aa`]__`aa`_U[_a`^\\\\\\\\UTWZ`X^QX\\n'],\n",
       " ['@HWUSI-EAS522:8:5:662:693#0/1\\n',\n",
       "  'TCTGCCAACTTCTTATGGAGGCCTGTATTCACAGGT\\n',\n",
       "  '+HWUSI-EAS522:8:5:662:693#0/1\\n',\n",
       "  'Aaaa`aa`aa`]__`:a`_U;_A`^\\\\\\\\UTWZ`X^QX\\n'],\n",
       " ['@HWUSI-EAS522:8:5:662:694#0/1\\n',\n",
       "  'TCTGCCAGAGGCCTGTATTCACAGGTACTTCTTATG\\n',\n",
       "  '+HWUSI-EAS522:8:5:662:694#0/1\\n',\n",
       "  'aaaa`aa`aa`]__`aa`_u[_a`^\\\\\\\\utwz`x^QX\\n'],\n",
       " ['@HWUSI-EAS522:8:5:662:695#0/1\\n',\n",
       "  'TCGCCTGTATTCACAGGTTGCCAACTTCTTATGGAG\\n',\n",
       "  '+HWUSI-EAS522:8:5:662:695#0/1\\n',\n",
       "  'AaaA`aa`aa`]__`:A`_U;_A`^\\\\\\\\UTWZ`X^QX\\n']]"
      ]
     },
     "execution_count": 64,
     "metadata": {},
     "output_type": "execute_result"
    }
   ],
   "source": [
    "output_list"
   ]
  },
  {
   "cell_type": "markdown",
   "metadata": {},
   "source": [
    "Tenere in `output_list` solo i read la cui percentuale di basi con qualità almeno pari alla soglia minima (valore in `quality_threshold`) è almeno pari al parametro in input `min_percentage`."
   ]
  },
  {
   "cell_type": "code",
   "execution_count": 65,
   "metadata": {},
   "outputs": [],
   "source": [
    "output_list = [read for read in output_list if get_quality_percentage(read[3].rstrip(), quality_threshold) >= min_percentage]"
   ]
  },
  {
   "cell_type": "code",
   "execution_count": 66,
   "metadata": {},
   "outputs": [
    {
     "data": {
      "text/plain": [
       "[['@HWUSI-EAS522:8:5:662:692#0/1\\n',\n",
       "  'TATGGAGGCCCAACTTCTTGTATTCACAGGTTCTGC\\n',\n",
       "  '+HWUSI-EAS522:8:5:662:692#0/1\\n',\n",
       "  'aaaa`aa`aa`]__`aa`_U[_a`^\\\\\\\\UTWZ`X^QX\\n'],\n",
       " ['@HWUSI-EAS522:8:5:662:694#0/1\\n',\n",
       "  'TCTGCCAGAGGCCTGTATTCACAGGTACTTCTTATG\\n',\n",
       "  '+HWUSI-EAS522:8:5:662:694#0/1\\n',\n",
       "  'aaaa`aa`aa`]__`aa`_u[_a`^\\\\\\\\utwz`x^QX\\n']]"
      ]
     },
     "execution_count": 66,
     "metadata": {},
     "output_type": "execute_result"
    }
   ],
   "source": [
    "output_list"
   ]
  },
  {
   "cell_type": "markdown",
   "metadata": {},
   "source": [
    "Effettuare il *trimming* dei reads di `output_list`."
   ]
  },
  {
   "cell_type": "code",
   "execution_count": 67,
   "metadata": {},
   "outputs": [],
   "source": [
    "output_list = [get_trimmed_read(quality_threshold, read) for read in output_list]"
   ]
  },
  {
   "cell_type": "code",
   "execution_count": 68,
   "metadata": {},
   "outputs": [
    {
     "data": {
      "text/plain": [
       "[['@HWUSI-EAS522:8:5:662:692#0/1\\n',\n",
       "  'TATGGAGGCCCAACTTCTT\\n',\n",
       "  '+HWUSI-EAS522:8:5:662:692#0/1\\n',\n",
       "  'aaaa`aa`aa`]__`aa`_\\n'],\n",
       " ['@HWUSI-EAS522:8:5:662:694#0/1\\n',\n",
       "  'TCTGCCAGAGGCCTGTATTCACAGGTACTTCTTA\\n',\n",
       "  '+HWUSI-EAS522:8:5:662:694#0/1\\n',\n",
       "  'aaaa`aa`aa`]__`aa`_u[_a`^\\\\\\\\utwz`x^\\n']]"
      ]
     },
     "execution_count": 68,
     "metadata": {},
     "output_type": "execute_result"
    }
   ],
   "source": [
    "output_list"
   ]
  },
  {
   "cell_type": "markdown",
   "metadata": {},
   "source": [
    "Eliminare da `output_list` i reads troppo corti."
   ]
  },
  {
   "cell_type": "code",
   "execution_count": 69,
   "metadata": {},
   "outputs": [],
   "source": [
    "output_list = [read for read in output_list if len(read[1].rstrip()) >= min_length]"
   ]
  },
  {
   "cell_type": "code",
   "execution_count": 70,
   "metadata": {},
   "outputs": [
    {
     "data": {
      "text/plain": [
       "[['@HWUSI-EAS522:8:5:662:694#0/1\\n',\n",
       "  'TCTGCCAGAGGCCTGTATTCACAGGTACTTCTTA\\n',\n",
       "  '+HWUSI-EAS522:8:5:662:694#0/1\\n',\n",
       "  'aaaa`aa`aa`]__`aa`_u[_a`^\\\\\\\\utwz`x^\\n']]"
      ]
     },
     "execution_count": 70,
     "metadata": {},
     "output_type": "execute_result"
    }
   ],
   "source": [
    "output_list"
   ]
  },
  {
   "cell_type": "code",
   "execution_count": null,
   "metadata": {},
   "outputs": [],
   "source": []
  }
 ],
 "metadata": {
  "kernelspec": {
   "display_name": "Python 3",
   "language": "python",
   "name": "python3"
  },
  "language_info": {
   "codemirror_mode": {
    "name": "ipython",
    "version": 3
   },
   "file_extension": ".py",
   "mimetype": "text/x-python",
   "name": "python",
   "nbconvert_exporter": "python",
   "pygments_lexer": "ipython3",
   "version": "3.7.1"
  }
 },
 "nbformat": 4,
 "nbformat_minor": 2
}
