{
 "cells": [
  {
   "cell_type": "markdown",
   "metadata": {},
   "source": [
    "# Esercizio 7\n",
    "\n",
    "Dato un file in formato FASTQ, che memorizza reads NGS e la qualità di ognuna delle loro basi, tenere solo i reads che hanno una percentuale almeno P di basi con qualità almeno Q, effettuarne il *trimming* e produrre in output in formato FASTQ solo i read per cui la porzione rimasta è lunga almeno L.\n",
    "\n",
    "Il *trimming* di un read consiste nel trovare la più lunga sottostringa (o una delle più lunghe) le cui basi abbiano tutte una qualità pari ad almeno Q.\n",
    "\n",
    "***\n",
    "\n",
    "Parametri in input:\n",
    "\n",
    "- nome del file in formato FASTQ\n",
    "- soglia minima di qualità\n",
    "- percentuale minima (compresa tra 0 e 1) delle basi con qualità almeno Q\n",
    "- lunghezza minima dopo il *trimming*\n",
    "\n",
    "***\n",
    "\n",
    "Requisiti:\n",
    "- deve essere definita la funzione `ascii_to_quality()` che prenda come argomento un carattere ASCII e restituisca il corrispondente Phred Value.\n",
    "- deve essere definita la funzione `get_quality_percentage()` che prenda in input una stringa di qualità (cioé una stringa di caratteri ASCII che codificano Phred Values) e una soglia minima, e restituisca la percentuale di caratteri che codificano una qualità pari ad almeno la soglia minima.\n",
    "- deve essere definita la funzione `get_trimming_interval()` che prenda in input una stringa di qualità e una soglia minima, e restituisca il più lungo intervallo di posizioni (o uno dei più lunghi) contenente solo caratteri che codificano qualità almeno pari alla soglia minima.\n",
    "- deve essere definita la funzione `get_trimmed_read()` che prenda in input una soglia minima di qualità e la lista delle quattro stringhe di un read in formato FASTQ (header della sequenza del read, sequenza del read, header della stringa di qualità, stringa di qualità). La funzione deve effettuare il *trimming*, cioé deve trovare la più lunga sottostringa (o una delle più lunghe) del read le cui basi abbiano una qualità pari ad almeno la soglia minima, e restituire la lista delle quattro stringhe del formato FASTQ del read dopo avere effettuato il *trimming*. La funzione deve chiamare `get_trimming_interval()`.\n",
    "Ad esempio per una soglia minima di qualità pari a 58 e per il read seguente:\n",
    "\n",
    "        @HWUSI-EAS522:8:5:662:692#0/1\n",
    "        TATGGAGGCCCAACTTCTTGTATTCACAGGTTCTGC\n",
    "        +HWUSI-EAS522:8:5:662:692#0/1\n",
    "        aaaa`aa`aa`]__`aa`_U[_a`^\\\\UTWZ`X^QX\n",
    "il *trimming* produce:\n",
    "\n",
    "        @HWUSI-EAS522:8:5:662:692#0/1\n",
    "        TATGGAGGCCCAACTTCTT\n",
    "        +HWUSI-EAS522:8:5:662:692#0/1,\n",
    "        aaaa`aa`aa`]__`aa`_\n",
    "che in questo particolare caso corrisponde a tenere un prefisso del read.\n",
    "\n",
    "***\n",
    "\n",
    "Variabili di output:\n",
    "- `output_list`, lista dei reads di output in formato FASTQ. Ogni elemento della lista è una lista annidata contenente le quattro righe del formato FASTQ di un read."
   ]
  },
  {
   "cell_type": "markdown",
   "metadata": {},
   "source": [
    "---"
   ]
  },
  {
   "cell_type": "markdown",
   "metadata": {},
   "source": [
    "### Come ottenere il valore ASCII di un carattere"
   ]
  },
  {
   "cell_type": "markdown",
   "metadata": {},
   "source": [
    "La funzione `ord()` restituisce il valore ASCII del carattere passato come argomento (oggetto di tipo `str`)."
   ]
  },
  {
   "cell_type": "code",
   "execution_count": 2,
   "metadata": {},
   "outputs": [
    {
     "data": {
      "text/plain": [
       "65"
      ]
     },
     "execution_count": 2,
     "metadata": {},
     "output_type": "execute_result"
    }
   ],
   "source": [
    "ord('A')"
   ]
  },
  {
   "cell_type": "markdown",
   "metadata": {},
   "source": [
    "### Come ottenere l'indice di posizione di un determinato valore in una lista"
   ]
  },
  {
   "cell_type": "markdown",
   "metadata": {},
   "source": [
    "Il metodo `index()` degli oggetti di tipo `list` restituisce l'indice di posizione del valore passato come argomento."
   ]
  },
  {
   "cell_type": "code",
   "execution_count": 4,
   "metadata": {},
   "outputs": [
    {
     "data": {
      "text/plain": [
       "2"
      ]
     },
     "execution_count": 4,
     "metadata": {},
     "output_type": "execute_result"
    }
   ],
   "source": [
    "[1,2,3,4].index(3)"
   ]
  },
  {
   "cell_type": "code",
   "execution_count": null,
   "metadata": {},
   "outputs": [],
   "source": []
  }
 ],
 "metadata": {
  "kernelspec": {
   "display_name": "Python 3",
   "language": "python",
   "name": "python3"
  },
  "language_info": {
   "codemirror_mode": {
    "name": "ipython",
    "version": 3
   },
   "file_extension": ".py",
   "mimetype": "text/x-python",
   "name": "python",
   "nbconvert_exporter": "python",
   "pygments_lexer": "ipython3",
   "version": "3.7.1"
  }
 },
 "nbformat": 4,
 "nbformat_minor": 2
}
